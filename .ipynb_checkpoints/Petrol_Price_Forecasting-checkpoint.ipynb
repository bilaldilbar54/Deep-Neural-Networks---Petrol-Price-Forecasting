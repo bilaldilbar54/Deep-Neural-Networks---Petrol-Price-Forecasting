{
 "cells": [
  {
   "cell_type": "markdown",
   "metadata": {
    "id": "a1OlKhSbWYEl"
   },
   "source": [
    "# **Project Name:** Petrol Price Forecasting  using Tensor Flow"
   ]
  },
  {
   "cell_type": "markdown",
   "metadata": {},
   "source": [
    "## Petrol Prices are going up continously these days and it has become very hard to predict what will be the price range in the next few months or even days.\n",
    "### In this project we will try to forecast the different petrol prices for the upcoming dates given to us. "
   ]
  },
  {
   "cell_type": "markdown",
   "metadata": {},
   "source": [
    "**Importing Libraries & Dataset**"
   ]
  },
  {
   "cell_type": "code",
   "execution_count": 1,
   "metadata": {},
   "outputs": [],
   "source": [
    "import pandas as pd\n",
    "import numpy as np\n",
    "from matplotlib import pyplot as plt\n",
    "import seaborn as sns"
   ]
  },
  {
   "cell_type": "code",
   "execution_count": 2,
   "metadata": {},
   "outputs": [
    {
     "data": {
      "text/html": [
       "<div>\n",
       "<style scoped>\n",
       "    .dataframe tbody tr th:only-of-type {\n",
       "        vertical-align: middle;\n",
       "    }\n",
       "\n",
       "    .dataframe tbody tr th {\n",
       "        vertical-align: top;\n",
       "    }\n",
       "\n",
       "    .dataframe thead th {\n",
       "        text-align: right;\n",
       "    }\n",
       "</style>\n",
       "<table border=\"1\" class=\"dataframe\">\n",
       "  <thead>\n",
       "    <tr style=\"text-align: right;\">\n",
       "      <th></th>\n",
       "      <th>Date</th>\n",
       "      <th>Petrol (USD)</th>\n",
       "    </tr>\n",
       "  </thead>\n",
       "  <tbody>\n",
       "    <tr>\n",
       "      <th>0</th>\n",
       "      <td>6/9/2003</td>\n",
       "      <td>74.59</td>\n",
       "    </tr>\n",
       "    <tr>\n",
       "      <th>1</th>\n",
       "      <td>6/16/2003</td>\n",
       "      <td>74.47</td>\n",
       "    </tr>\n",
       "    <tr>\n",
       "      <th>2</th>\n",
       "      <td>6/23/2003</td>\n",
       "      <td>74.42</td>\n",
       "    </tr>\n",
       "    <tr>\n",
       "      <th>3</th>\n",
       "      <td>6/30/2003</td>\n",
       "      <td>74.35</td>\n",
       "    </tr>\n",
       "    <tr>\n",
       "      <th>4</th>\n",
       "      <td>7/7/2003</td>\n",
       "      <td>74.28</td>\n",
       "    </tr>\n",
       "  </tbody>\n",
       "</table>\n",
       "</div>"
      ],
      "text/plain": [
       "        Date  Petrol (USD)\n",
       "0   6/9/2003         74.59\n",
       "1  6/16/2003         74.47\n",
       "2  6/23/2003         74.42\n",
       "3  6/30/2003         74.35\n",
       "4   7/7/2003         74.28"
      ]
     },
     "execution_count": 2,
     "metadata": {},
     "output_type": "execute_result"
    }
   ],
   "source": [
    "petrolprice_df = pd.read_csv(\"/Users/bilaldilbar/Documents/GeorgeBrown/Projects/Petrol Price Forecasting/Dataset/train_data.csv\")\n",
    "petrolprice_df.head()"
   ]
  },
  {
   "cell_type": "code",
   "execution_count": 3,
   "metadata": {},
   "outputs": [
    {
     "data": {
      "text/html": [
       "<div>\n",
       "<style scoped>\n",
       "    .dataframe tbody tr th:only-of-type {\n",
       "        vertical-align: middle;\n",
       "    }\n",
       "\n",
       "    .dataframe tbody tr th {\n",
       "        vertical-align: top;\n",
       "    }\n",
       "\n",
       "    .dataframe thead th {\n",
       "        text-align: right;\n",
       "    }\n",
       "</style>\n",
       "<table border=\"1\" class=\"dataframe\">\n",
       "  <thead>\n",
       "    <tr style=\"text-align: right;\">\n",
       "      <th></th>\n",
       "      <th>Date</th>\n",
       "      <th>Petrol Price</th>\n",
       "    </tr>\n",
       "  </thead>\n",
       "  <tbody>\n",
       "    <tr>\n",
       "      <th>0</th>\n",
       "      <td>6/9/2003</td>\n",
       "      <td>74.59</td>\n",
       "    </tr>\n",
       "    <tr>\n",
       "      <th>1</th>\n",
       "      <td>6/16/2003</td>\n",
       "      <td>74.47</td>\n",
       "    </tr>\n",
       "    <tr>\n",
       "      <th>2</th>\n",
       "      <td>6/23/2003</td>\n",
       "      <td>74.42</td>\n",
       "    </tr>\n",
       "    <tr>\n",
       "      <th>3</th>\n",
       "      <td>6/30/2003</td>\n",
       "      <td>74.35</td>\n",
       "    </tr>\n",
       "    <tr>\n",
       "      <th>4</th>\n",
       "      <td>7/7/2003</td>\n",
       "      <td>74.28</td>\n",
       "    </tr>\n",
       "  </tbody>\n",
       "</table>\n",
       "</div>"
      ],
      "text/plain": [
       "        Date  Petrol Price\n",
       "0   6/9/2003         74.59\n",
       "1  6/16/2003         74.47\n",
       "2  6/23/2003         74.42\n",
       "3  6/30/2003         74.35\n",
       "4   7/7/2003         74.28"
      ]
     },
     "execution_count": 3,
     "metadata": {},
     "output_type": "execute_result"
    }
   ],
   "source": [
    "petrolprice_df.rename(columns={\"Petrol (USD)\": \"Petrol Price\"}, inplace=True)\n",
    "petrolprice_df.head()"
   ]
  },
  {
   "cell_type": "markdown",
   "metadata": {},
   "source": [
    "**Data Analysis**"
   ]
  },
  {
   "cell_type": "code",
   "execution_count": 4,
   "metadata": {},
   "outputs": [
    {
     "data": {
      "text/plain": [
       "(813, 2)"
      ]
     },
     "execution_count": 4,
     "metadata": {},
     "output_type": "execute_result"
    }
   ],
   "source": [
    "petrolprice_df.shape"
   ]
  },
  {
   "cell_type": "code",
   "execution_count": 5,
   "metadata": {},
   "outputs": [
    {
     "data": {
      "text/html": [
       "<div>\n",
       "<style scoped>\n",
       "    .dataframe tbody tr th:only-of-type {\n",
       "        vertical-align: middle;\n",
       "    }\n",
       "\n",
       "    .dataframe tbody tr th {\n",
       "        vertical-align: top;\n",
       "    }\n",
       "\n",
       "    .dataframe thead th {\n",
       "        text-align: right;\n",
       "    }\n",
       "</style>\n",
       "<table border=\"1\" class=\"dataframe\">\n",
       "  <thead>\n",
       "    <tr style=\"text-align: right;\">\n",
       "      <th></th>\n",
       "      <th>Petrol Price</th>\n",
       "    </tr>\n",
       "  </thead>\n",
       "  <tbody>\n",
       "    <tr>\n",
       "      <th>count</th>\n",
       "      <td>811.000000</td>\n",
       "    </tr>\n",
       "    <tr>\n",
       "      <th>mean</th>\n",
       "      <td>110.330481</td>\n",
       "    </tr>\n",
       "    <tr>\n",
       "      <th>std</th>\n",
       "      <td>19.241182</td>\n",
       "    </tr>\n",
       "    <tr>\n",
       "      <th>min</th>\n",
       "      <td>74.210000</td>\n",
       "    </tr>\n",
       "    <tr>\n",
       "      <th>25%</th>\n",
       "      <td>94.525000</td>\n",
       "    </tr>\n",
       "    <tr>\n",
       "      <th>50%</th>\n",
       "      <td>112.420000</td>\n",
       "    </tr>\n",
       "    <tr>\n",
       "      <th>75%</th>\n",
       "      <td>128.560000</td>\n",
       "    </tr>\n",
       "    <tr>\n",
       "      <th>max</th>\n",
       "      <td>189.510000</td>\n",
       "    </tr>\n",
       "  </tbody>\n",
       "</table>\n",
       "</div>"
      ],
      "text/plain": [
       "       Petrol Price\n",
       "count    811.000000\n",
       "mean     110.330481\n",
       "std       19.241182\n",
       "min       74.210000\n",
       "25%       94.525000\n",
       "50%      112.420000\n",
       "75%      128.560000\n",
       "max      189.510000"
      ]
     },
     "execution_count": 5,
     "metadata": {},
     "output_type": "execute_result"
    }
   ],
   "source": [
    "petrolprice_df.describe()"
   ]
  },
  {
   "cell_type": "code",
   "execution_count": 6,
   "metadata": {},
   "outputs": [
    {
     "data": {
      "text/plain": [
       "Date             object\n",
       "Petrol Price    float64\n",
       "dtype: object"
      ]
     },
     "execution_count": 6,
     "metadata": {},
     "output_type": "execute_result"
    }
   ],
   "source": [
    "petrolprice_df.dtypes"
   ]
  },
  {
   "cell_type": "code",
   "execution_count": 7,
   "metadata": {},
   "outputs": [
    {
     "data": {
      "text/plain": [
       "Date            0\n",
       "Petrol Price    2\n",
       "dtype: int64"
      ]
     },
     "execution_count": 7,
     "metadata": {},
     "output_type": "execute_result"
    }
   ],
   "source": [
    "petrolprice_df.isnull().sum()"
   ]
  },
  {
   "cell_type": "code",
   "execution_count": 8,
   "metadata": {},
   "outputs": [
    {
     "data": {
      "image/png": "[encoded data removed]",
      "text/plain": [
       "<Figure size 800x600 with 1 Axes>"
      ]
     },
     "metadata": {},
     "output_type": "display_data"
    }
   ],
   "source": [
    "plt.figure(figsize=(8, 6))\n",
    "plt.plot(petrolprice_df['Date'], petrolprice_df['Petrol Price'])\n",
    "plt.title('Petrol Prices Over Time')\n",
    "plt.xlabel('Date')\n",
    "plt.ylabel('Petrol Price (USD)')\n",
    "plt.show()"
   ]
  },
  {
   "cell_type": "code",
   "execution_count": 9,
   "metadata": {},
   "outputs": [
    {
     "data": {
      "image/png": "[encoded data removed]",
      "text/plain": [
       "<Figure size 200x500 with 1 Axes>"
      ]
     },
     "metadata": {},
     "output_type": "display_data"
    }
   ],
   "source": [
    "plt.figure(figsize=(2, 5))\n",
    "sns.boxplot(y=petrolprice_df['Petrol Price'],  width=0.25)\n",
    "plt.title('Box Plot of Petrol Prices')\n",
    "plt.xlabel('Petrol Price (USD)')\n",
    "plt.show()"
   ]
  },
  {
   "cell_type": "markdown",
   "metadata": {},
   "source": [
    "**Data Imputation**"
   ]
  },
  {
   "cell_type": "code",
   "execution_count": 10,
   "metadata": {},
   "outputs": [],
   "source": [
    "from sklearn.experimental import enable_iterative_imputer\n",
    "from sklearn.impute import IterativeImputer"
   ]
  },
  {
   "cell_type": "code",
   "execution_count": 11,
   "metadata": {},
   "outputs": [
    {
     "data": {
      "text/plain": [
       "Date            0\n",
       "Petrol Price    0\n",
       "dtype: int64"
      ]
     },
     "execution_count": 11,
     "metadata": {},
     "output_type": "execute_result"
    }
   ],
   "source": [
    "imputer = IterativeImputer(max_iter=10, random_state=0)\n",
    "petrolprice_df['Petrol Price'] = imputer.fit_transform(petrolprice_df[['Petrol Price']])\n",
    "petrolprice_df.isna().sum()"
   ]
  },
  {
   "cell_type": "markdown",
   "metadata": {},
   "source": [
    "**Removing Outliers**"
   ]
  },
  {
   "cell_type": "code",
   "execution_count": 12,
   "metadata": {},
   "outputs": [],
   "source": [
    "from sklearn.ensemble import IsolationForest"
   ]
  },
  {
   "cell_type": "code",
   "execution_count": 13,
   "metadata": {},
   "outputs": [],
   "source": [
    "model = IsolationForest(contamination=0.05)\n",
    "petrolprice_df['Outlier'] = model.fit_predict(petrolprice_df[['Petrol Price']])\n",
    "petrolprice_df = petrolprice_df[petrolprice_df['Outlier'] != -1]"
   ]
  },
  {
   "cell_type": "code",
   "execution_count": 14,
   "metadata": {},
   "outputs": [
    {
     "data": {
      "image/png": "[encoded data removed]",
      "text/plain": [
       "<Figure size 800x600 with 1 Axes>"
      ]
     },
     "metadata": {},
     "output_type": "display_data"
    }
   ],
   "source": [
    "plt.figure(figsize=(8, 6))\n",
    "plt.plot(petrolprice_df['Date'], petrolprice_df['Petrol Price'])\n",
    "plt.title('Petrol Prices Over Time')\n",
    "plt.xlabel('Date')\n",
    "plt.ylabel('Petrol Price (USD)')\n",
    "plt.show()"
   ]
  },
  {
   "cell_type": "code",
   "execution_count": 15,
   "metadata": {},
   "outputs": [
    {
     "data": {
      "image/png": "[encoded data removed]",
      "text/plain": [
       "<Figure size 200x500 with 1 Axes>"
      ]
     },
     "metadata": {},
     "output_type": "display_data"
    }
   ],
   "source": [
    "plt.figure(figsize=(2, 5))\n",
    "sns.boxplot(y=petrolprice_df['Petrol Price'])\n",
    "plt.title('Box Plot of Petrol Prices')\n",
    "plt.xlabel('Petrol Price (USD)')\n",
    "plt.show()"
   ]
  },
  {
   "cell_type": "markdown",
   "metadata": {},
   "source": [
    "**Data Scaling**"
   ]
  },
  {
   "cell_type": "code",
   "execution_count": 16,
   "metadata": {},
   "outputs": [],
   "source": [
    "from sklearn.preprocessing import MinMaxScaler"
   ]
  },
  {
   "cell_type": "code",
   "execution_count": 17,
   "metadata": {},
   "outputs": [],
   "source": [
    "scaler = MinMaxScaler(feature_range=(0,1))\n",
    "petrol_price_values = petrolprice_df['Petrol Price'].values.reshape(-1, 1)\n",
    "petrol_price_scaled = scaler.fit_transform(np.array(petrol_price_values))\n",
    "petrolprice_df['Petrol Price Scaled'] = petrol_price_scaled\n",
    "petrolprice_df.reset_index(drop=True, inplace=True)"
   ]
  },
  {
   "cell_type": "code",
   "execution_count": 18,
   "metadata": {},
   "outputs": [
    {
     "data": {
      "text/html": [
       "<div>\n",
       "<style scoped>\n",
       "    .dataframe tbody tr th:only-of-type {\n",
       "        vertical-align: middle;\n",
       "    }\n",
       "\n",
       "    .dataframe tbody tr th {\n",
       "        vertical-align: top;\n",
       "    }\n",
       "\n",
       "    .dataframe thead th {\n",
       "        text-align: right;\n",
       "    }\n",
       "</style>\n",
       "<table border=\"1\" class=\"dataframe\">\n",
       "  <thead>\n",
       "    <tr style=\"text-align: right;\">\n",
       "      <th></th>\n",
       "      <th>Date</th>\n",
       "      <th>Petrol Price</th>\n",
       "      <th>Outlier</th>\n",
       "      <th>Petrol Price Scaled</th>\n",
       "    </tr>\n",
       "  </thead>\n",
       "  <tbody>\n",
       "    <tr>\n",
       "      <th>0</th>\n",
       "      <td>8/26/2003</td>\n",
       "      <td>76.05</td>\n",
       "      <td>1</td>\n",
       "      <td>0.002718</td>\n",
       "    </tr>\n",
       "    <tr>\n",
       "      <th>1</th>\n",
       "      <td>9/1/2003</td>\n",
       "      <td>76.13</td>\n",
       "      <td>1</td>\n",
       "      <td>0.003997</td>\n",
       "    </tr>\n",
       "    <tr>\n",
       "      <th>2</th>\n",
       "      <td>9/8/2003</td>\n",
       "      <td>76.23</td>\n",
       "      <td>1</td>\n",
       "      <td>0.005596</td>\n",
       "    </tr>\n",
       "    <tr>\n",
       "      <th>3</th>\n",
       "      <td>9/15/2003</td>\n",
       "      <td>76.20</td>\n",
       "      <td>1</td>\n",
       "      <td>0.005116</td>\n",
       "    </tr>\n",
       "    <tr>\n",
       "      <th>4</th>\n",
       "      <td>9/22/2003</td>\n",
       "      <td>76.15</td>\n",
       "      <td>1</td>\n",
       "      <td>0.004317</td>\n",
       "    </tr>\n",
       "    <tr>\n",
       "      <th>...</th>\n",
       "      <td>...</td>\n",
       "      <td>...</td>\n",
       "      <td>...</td>\n",
       "      <td>...</td>\n",
       "    </tr>\n",
       "    <tr>\n",
       "      <th>767</th>\n",
       "      <td>12/3/2018</td>\n",
       "      <td>124.30</td>\n",
       "      <td>1</td>\n",
       "      <td>0.774101</td>\n",
       "    </tr>\n",
       "    <tr>\n",
       "      <th>768</th>\n",
       "      <td>12/10/2018</td>\n",
       "      <td>122.37</td>\n",
       "      <td>1</td>\n",
       "      <td>0.743245</td>\n",
       "    </tr>\n",
       "    <tr>\n",
       "      <th>769</th>\n",
       "      <td>12/17/2018</td>\n",
       "      <td>121.02</td>\n",
       "      <td>1</td>\n",
       "      <td>0.721663</td>\n",
       "    </tr>\n",
       "    <tr>\n",
       "      <th>770</th>\n",
       "      <td>12/24/2018</td>\n",
       "      <td>120.61</td>\n",
       "      <td>1</td>\n",
       "      <td>0.715108</td>\n",
       "    </tr>\n",
       "    <tr>\n",
       "      <th>771</th>\n",
       "      <td>12/31/2018</td>\n",
       "      <td>120.18</td>\n",
       "      <td>1</td>\n",
       "      <td>0.708233</td>\n",
       "    </tr>\n",
       "  </tbody>\n",
       "</table>\n",
       "<p>772 rows × 4 columns</p>\n",
       "</div>"
      ],
      "text/plain": [
       "           Date  Petrol Price  Outlier  Petrol Price Scaled\n",
       "0     8/26/2003         76.05        1             0.002718\n",
       "1      9/1/2003         76.13        1             0.003997\n",
       "2      9/8/2003         76.23        1             0.005596\n",
       "3     9/15/2003         76.20        1             0.005116\n",
       "4     9/22/2003         76.15        1             0.004317\n",
       "..          ...           ...      ...                  ...\n",
       "767   12/3/2018        124.30        1             0.774101\n",
       "768  12/10/2018        122.37        1             0.743245\n",
       "769  12/17/2018        121.02        1             0.721663\n",
       "770  12/24/2018        120.61        1             0.715108\n",
       "771  12/31/2018        120.18        1             0.708233\n",
       "\n",
       "[772 rows x 4 columns]"
      ]
     },
     "execution_count": 18,
     "metadata": {},
     "output_type": "execute_result"
    }
   ],
   "source": [
    "petrolprice_df"
   ]
  },
  {
   "cell_type": "markdown",
   "metadata": {},
   "source": [
    "**Splitting The Data**"
   ]
  },
  {
   "cell_type": "code",
   "execution_count": 19,
   "metadata": {},
   "outputs": [],
   "source": [
    "training_size = int(len(petrolprice_df) * 0.65)\n",
    "train_data = petrolprice_df.iloc[:training_size, :]\n",
    "test_data = petrolprice_df.iloc[training_size:, :]"
   ]
  },
  {
   "cell_type": "code",
   "execution_count": 20,
   "metadata": {},
   "outputs": [
    {
     "data": {
      "text/plain": [
       "(501, 4)"
      ]
     },
     "execution_count": 20,
     "metadata": {},
     "output_type": "execute_result"
    }
   ],
   "source": [
    "train_data.shape"
   ]
  },
  {
   "cell_type": "code",
   "execution_count": 21,
   "metadata": {},
   "outputs": [
    {
     "data": {
      "text/plain": [
       "(271, 4)"
      ]
     },
     "execution_count": 21,
     "metadata": {},
     "output_type": "execute_result"
    }
   ],
   "source": [
    "test_data.shape"
   ]
  },
  {
   "cell_type": "markdown",
   "metadata": {},
   "source": [
    "**Data Pre-Processing**"
   ]
  },
  {
   "cell_type": "code",
   "execution_count": 22,
   "metadata": {},
   "outputs": [],
   "source": [
    "def create_dataset(dataset, time_step=1):\n",
    "    dataX = [dataset['Petrol Price Scaled'].values[i:(i+time_step)] for i in range(len(dataset)-time_step-1)]\n",
    "    dataY = [dataset['Petrol Price Scaled'].values[i + time_step] for i in range(len(dataset)-time_step-1)]\n",
    "    return np.array(dataX), np.array(dataY)"
   ]
  },
  {
   "cell_type": "code",
   "execution_count": 23,
   "metadata": {},
   "outputs": [],
   "source": [
    "time_step = 100\n",
    "X_train, y_train = create_dataset(train_data, time_step)\n",
    "X_test, ytest = create_dataset(test_data, time_step)"
   ]
  },
  {
   "cell_type": "code",
   "execution_count": 24,
   "metadata": {},
   "outputs": [
    {
     "data": {
      "text/plain": [
       "array([[0.00271783, 0.0039968 , 0.00559552, ..., 0.29192646, 0.28121503,\n",
       "        0.55076708],\n",
       "       [0.0039968 , 0.00559552, 0.00511591, ..., 0.28121503, 0.55076708,\n",
       "        0.26522782],\n",
       "       [0.00559552, 0.00511591, 0.00431655, ..., 0.55076708, 0.26522782,\n",
       "        0.23421263],\n",
       "       ...,\n",
       "       [0.95571543, 0.96227018, 0.9685052 , ..., 0.98673062, 0.98465228,\n",
       "        0.97633893],\n",
       "       [0.96227018, 0.9685052 , 0.96035172, ..., 0.98465228, 0.97633893,\n",
       "        0.91958433],\n",
       "       [0.9685052 , 0.96035172, 0.9381295 , ..., 0.97633893, 0.91958433,\n",
       "        0.8911271 ]])"
      ]
     },
     "execution_count": 24,
     "metadata": {},
     "output_type": "execute_result"
    }
   ],
   "source": [
    "X_train"
   ]
  },
  {
   "cell_type": "code",
   "execution_count": 25,
   "metadata": {
    "scrolled": true
   },
   "outputs": [
    {
     "data": {
      "text/plain": [
       "array([0.26522782, 0.23421263, 0.20351719, 0.1833733 , 0.1833733 ,\n",
       "       0.18097522, 0.18673062, 0.19184652, 0.1942446 , 0.20271783,\n",
       "       0.20991207, 0.21854516, 0.22382094, 0.22142286, 0.22014388,\n",
       "       0.21934452, 0.21566747, 0.21854516, 0.22877698, 0.24428457,\n",
       "       0.25419664, 0.27002398, 0.29336531, 0.31127098, 0.32374101,\n",
       "       0.32901679, 0.32789768, 0.32326139, 0.31143086, 0.30951239,\n",
       "       0.31350919, 0.31270983, 0.30519584, 0.30999201, 0.31670663,\n",
       "       0.33573141, 0.3501199 , 0.35091926, 0.35443645, 0.35075939,\n",
       "       0.317506  , 0.29608313, 0.27178257, 0.24940048, 0.22222222,\n",
       "       0.19696243, 0.17697842, 0.17138289, 0.16035172, 0.15763389,\n",
       "       0.15539568, 0.15443645, 0.15363709, 0.55076708, 0.15331735,\n",
       "       0.15315747, 0.18481215, 0.18896882, 0.19216627, 0.19136691,\n",
       "       0.18832934, 0.1793765 , 0.16626699, 0.15635492, 0.15571543,\n",
       "       0.16370903, 0.17138289, 0.17889688, 0.18960831, 0.20143885,\n",
       "       0.20863309, 0.21486811, 0.2332534 , 0.24460432, 0.25755396,\n",
       "       0.27258193, 0.28089528, 0.29656275, 0.30679456, 0.31702638,\n",
       "       0.32422062, 0.32981615, 0.33141487, 0.33061551, 0.33029576,\n",
       "       0.32741807, 0.32486011, 0.32501998, 0.32533973, 0.32486011,\n",
       "       0.32406075, 0.32166267, 0.31063149, 0.30567546, 0.30247802,\n",
       "       0.29976019, 0.30007994, 0.30423661, 0.32789768, 0.33988809,\n",
       "       0.34068745, 0.35059952, 0.35779376, 0.3753797 , 0.39744205,\n",
       "       0.40911271, 0.41966427, 0.42685851, 0.42829736, 0.42717826,\n",
       "       0.42605915, 0.42813749, 0.43948841, 0.44668265, 0.45307754,\n",
       "       0.45307754, 0.45003997, 0.44428457, 0.44476419, 0.45995204,\n",
       "       0.46938449, 0.48089528, 0.48808953, 0.49592326, 0.4991207 ,\n",
       "       0.50135891, 0.50727418, 0.5226219 , 0.53749001, 0.55027978,\n",
       "       0.56211031, 0.59280576, 0.62206235, 0.64188649, 0.65515588,\n",
       "       0.66842526, 0.68041567, 0.68681055, 0.69384492, 0.69640288,\n",
       "       0.69576339, 0.65595524, 0.6263789 , 0.60815348, 0.58097522,\n",
       "       0.57777778, 0.58065548, 0.586251  , 0.58561151, 0.55843325,\n",
       "       0.54308553, 0.53669065, 0.49816147, 0.42813749, 0.36354916,\n",
       "       0.34404476, 0.31990408, 0.30295763, 0.27034373, 0.24924061,\n",
       "       0.22829736, 0.2108713 , 0.19392486, 0.18321343, 0.15251799,\n",
       "       0.16211031, 0.16482814, 0.18449241, 0.19632294, 0.21422862,\n",
       "       0.22765787, 0.23101519, 0.23021583, 0.22813749, 0.22829736,\n",
       "       0.22829736, 0.24732214, 0.28521183, 0.29144684, 0.29960032,\n",
       "       0.3077538 , 0.31526779, 0.33109512, 0.34628297, 0.36802558,\n",
       "       0.37585931, 0.39504396, 0.41726619, 0.43053557, 0.4383693 ,\n",
       "       0.44268585, 0.43005596, 0.42110312, 0.42030376, 0.42334133,\n",
       "       0.43373301, 0.44892086, 0.4607514 , 0.46730616, 0.4951239 ,\n",
       "       0.48840927, 0.48089528, 0.47258193, 0.46346922, 0.46091127,\n",
       "       0.46682654, 0.49368505, 0.50439648, 0.51510791, 0.52118305,\n",
       "       0.52517986, 0.52613909, 0.52374101, 0.5215028 , 0.50503597,\n",
       "       0.50455635, 0.53493205, 0.5569944 , 0.57106315, 0.5753797 ,\n",
       "       0.57601918, 0.57665867, 0.57569944, 0.57042366, 0.58417266,\n",
       "       0.60479616, 0.63277378, 0.65083933, 0.6618705 , 0.6940048 ,\n",
       "       0.70439648, 0.71414868, 0.72118305, 0.72422062, 0.72629896,\n",
       "       0.72613909, 0.70423661, 0.68201439, 0.67657874, 0.67130296,\n",
       "       0.67018385, 0.67146283, 0.67194245, 0.6636291 , 0.654996  ,\n",
       "       0.65115907, 0.64956035, 0.6470024 , 0.64684253, 0.63565148,\n",
       "       0.62509992, 0.61886491, 0.61998401, 0.6263789 , 0.63165468,\n",
       "       0.64156675, 0.6538769 , 0.6618705 , 0.66922462, 0.67625899,\n",
       "       0.68409273, 0.68617106, 0.68920863, 0.69272582, 0.71398881,\n",
       "       0.73221423, 0.74228617, 0.76035172, 0.78289369, 0.82366107,\n",
       "       0.83117506, 0.83884892, 0.84204636, 0.84348521, 0.84492406,\n",
       "       0.84796163, 0.8607514 , 0.88569145, 0.90007994, 0.91494804,\n",
       "       0.90423661, 0.91015188, 0.92406075, 0.9461231 , 0.95507594,\n",
       "       0.96578737, 0.97793765, 0.96754596, 0.96290967, 0.95427658,\n",
       "       0.95507594, 0.95891287, 0.9616307 , 0.94292566, 0.92006395,\n",
       "       0.93205436, 0.94468425, 0.95571543, 0.96227018, 0.9685052 ,\n",
       "       0.96035172, 0.9381295 , 0.93429257, 0.93908873, 0.94516387,\n",
       "       0.95155875, 0.95555556, 0.94548361, 0.93669065, 0.93701039,\n",
       "       0.93972822, 0.94084732, 0.93573141, 0.92406075, 0.91926459,\n",
       "       0.91590727, 0.90967226, 0.90567546, 0.90503597, 0.90375699,\n",
       "       0.90359712, 0.90807354, 0.91782574, 0.92470024, 0.93077538,\n",
       "       0.93317346, 0.94356515, 0.94852118, 0.96450839, 0.98193445,\n",
       "       0.99152678, 0.99776179, 0.95747402, 0.93509193, 0.93013589,\n",
       "       0.92390088, 0.89704237, 0.89000799, 0.87322142, 0.88217426,\n",
       "       0.88904876, 0.90055955, 0.90967226, 0.91942446, 0.93349321,\n",
       "       0.95667466, 0.97873701, 0.99360512, 1.        , 0.99696243,\n",
       "       0.99872102, 0.99776179, 0.97681855, 0.96802558, 0.94660272,\n",
       "       0.9381295 , 0.9352518 , 0.91398881, 0.9059952 , 0.89688249,\n",
       "       0.89640288, 0.89592326, 0.89496403, 0.89720224, 0.90055955,\n",
       "       0.91239009, 0.9352518 , 0.95411671, 0.97490008, 0.98641087,\n",
       "       0.97857714, 0.98193445, 0.98209432, 0.97889688, 0.95603517,\n",
       "       0.93972822, 0.91990408, 0.91510791, 0.91590727, 0.92342126,\n",
       "       0.92981615, 0.93397282, 0.93653078, 0.93749001, 0.92022382,\n",
       "       0.9254996 , 0.94436451, 0.96179057, 0.97505995, 0.97745803,\n",
       "       0.97921663, 0.97713829, 0.97442046, 0.9793765 , 0.98673062,\n",
       "       0.98465228, 0.97633893, 0.91958433, 0.8911271 , 0.89192646])"
      ]
     },
     "execution_count": 25,
     "metadata": {},
     "output_type": "execute_result"
    }
   ],
   "source": [
    "y_train"
   ]
  },
  {
   "cell_type": "code",
   "execution_count": 26,
   "metadata": {},
   "outputs": [],
   "source": [
    "X_train = np.expand_dims(X_train, axis=2)\n",
    "X_test = np.expand_dims(X_test, axis=2)"
   ]
  },
  {
   "cell_type": "code",
   "execution_count": 27,
   "metadata": {},
   "outputs": [
    {
     "data": {
      "text/plain": [
       "(400, 100, 1)"
      ]
     },
     "execution_count": 27,
     "metadata": {},
     "output_type": "execute_result"
    }
   ],
   "source": [
    "X_train.shape"
   ]
  },
  {
   "cell_type": "code",
   "execution_count": 28,
   "metadata": {},
   "outputs": [
    {
     "data": {
      "text/plain": [
       "(170, 100, 1)"
      ]
     },
     "execution_count": 28,
     "metadata": {},
     "output_type": "execute_result"
    }
   ],
   "source": [
    "X_test.shape"
   ]
  },
  {
   "cell_type": "code",
   "execution_count": null,
   "metadata": {},
   "outputs": [],
   "source": []
  }
 ],
 "metadata": {
  "colab": {
   "provenance": []
  },
  "kernelspec": {
   "display_name": "Python 3 (ipykernel)",
   "language": "python",
   "name": "python3"
  },
  "language_info": {
   "codemirror_mode": {
    "name": "ipython",
    "version": 3
   },
   "file_extension": ".py",
   "mimetype": "text/x-python",
   "name": "python",
   "nbconvert_exporter": "python",
   "pygments_lexer": "ipython3",
   "version": "3.11.5"
  }
 },
 "nbformat": 4,
 "nbformat_minor": 1
}
