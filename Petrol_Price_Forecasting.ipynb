{
 "cells": [
  {
   "cell_type": "markdown",
   "metadata": {
    "id": "a1OlKhSbWYEl"
   },
   "source": [
    "# **Project Name:** Petrol Price Forecasting  using Tensor Flow"
   ]
  },
  {
   "cell_type": "markdown",
   "metadata": {},
   "source": [
    "## Petrol Prices are going up continously these days and it has become very hard to predict what will be the price range in the next few months or even days.\n",
    "### In this project we will try to forecast the different petrol prices for the upcoming dates given to us. "
   ]
  },
  {
   "cell_type": "markdown",
   "metadata": {},
   "source": [
    "**Importing Libraries & Dataset**"
   ]
  },
  {
   "cell_type": "code",
   "execution_count": 1,
   "metadata": {},
   "outputs": [],
   "source": [
    "import pandas as pd\n",
    "import numpy as np\n",
    "from matplotlib import pyplot as plt\n",
    "import seaborn as sns"
   ]
  },
  {
   "cell_type": "code",
   "execution_count": 2,
   "metadata": {},
   "outputs": [
    {
     "data": {
      "text/html": [
       "<div>\n",
       "<style scoped>\n",
       "    .dataframe tbody tr th:only-of-type {\n",
       "        vertical-align: middle;\n",
       "    }\n",
       "\n",
       "    .dataframe tbody tr th {\n",
       "        vertical-align: top;\n",
       "    }\n",
       "\n",
       "    .dataframe thead th {\n",
       "        text-align: right;\n",
       "    }\n",
       "</style>\n",
       "<table border=\"1\" class=\"dataframe\">\n",
       "  <thead>\n",
       "    <tr style=\"text-align: right;\">\n",
       "      <th></th>\n",
       "      <th>Date</th>\n",
       "      <th>Petrol (USD)</th>\n",
       "    </tr>\n",
       "  </thead>\n",
       "  <tbody>\n",
       "    <tr>\n",
       "      <th>0</th>\n",
       "      <td>6/9/2003</td>\n",
       "      <td>74.59</td>\n",
       "    </tr>\n",
       "    <tr>\n",
       "      <th>1</th>\n",
       "      <td>6/16/2003</td>\n",
       "      <td>74.47</td>\n",
       "    </tr>\n",
       "    <tr>\n",
       "      <th>2</th>\n",
       "      <td>6/23/2003</td>\n",
       "      <td>74.42</td>\n",
       "    </tr>\n",
       "    <tr>\n",
       "      <th>3</th>\n",
       "      <td>6/30/2003</td>\n",
       "      <td>74.35</td>\n",
       "    </tr>\n",
       "    <tr>\n",
       "      <th>4</th>\n",
       "      <td>7/7/2003</td>\n",
       "      <td>74.28</td>\n",
       "    </tr>\n",
       "  </tbody>\n",
       "</table>\n",
       "</div>"
      ],
      "text/plain": [
       "        Date  Petrol (USD)\n",
       "0   6/9/2003         74.59\n",
       "1  6/16/2003         74.47\n",
       "2  6/23/2003         74.42\n",
       "3  6/30/2003         74.35\n",
       "4   7/7/2003         74.28"
      ]
     },
     "execution_count": 2,
     "metadata": {},
     "output_type": "execute_result"
    }
   ],
   "source": [
    "petrolprice_df = pd.read_csv(\"/Users/bilaldilbar/Documents/GeorgeBrown/Projects/Petrol Price Forecasting/Dataset/train_data.csv\")\n",
    "petrolprice_df.head()"
   ]
  },
  {
   "cell_type": "code",
   "execution_count": 3,
   "metadata": {},
   "outputs": [
    {
     "data": {
      "text/html": [
       "<div>\n",
       "<style scoped>\n",
       "    .dataframe tbody tr th:only-of-type {\n",
       "        vertical-align: middle;\n",
       "    }\n",
       "\n",
       "    .dataframe tbody tr th {\n",
       "        vertical-align: top;\n",
       "    }\n",
       "\n",
       "    .dataframe thead th {\n",
       "        text-align: right;\n",
       "    }\n",
       "</style>\n",
       "<table border=\"1\" class=\"dataframe\">\n",
       "  <thead>\n",
       "    <tr style=\"text-align: right;\">\n",
       "      <th></th>\n",
       "      <th>Date</th>\n",
       "      <th>Petrol</th>\n",
       "    </tr>\n",
       "  </thead>\n",
       "  <tbody>\n",
       "    <tr>\n",
       "      <th>0</th>\n",
       "      <td>6/9/2003</td>\n",
       "      <td>74.59</td>\n",
       "    </tr>\n",
       "    <tr>\n",
       "      <th>1</th>\n",
       "      <td>6/16/2003</td>\n",
       "      <td>74.47</td>\n",
       "    </tr>\n",
       "    <tr>\n",
       "      <th>2</th>\n",
       "      <td>6/23/2003</td>\n",
       "      <td>74.42</td>\n",
       "    </tr>\n",
       "    <tr>\n",
       "      <th>3</th>\n",
       "      <td>6/30/2003</td>\n",
       "      <td>74.35</td>\n",
       "    </tr>\n",
       "    <tr>\n",
       "      <th>4</th>\n",
       "      <td>7/7/2003</td>\n",
       "      <td>74.28</td>\n",
       "    </tr>\n",
       "  </tbody>\n",
       "</table>\n",
       "</div>"
      ],
      "text/plain": [
       "        Date  Petrol\n",
       "0   6/9/2003   74.59\n",
       "1  6/16/2003   74.47\n",
       "2  6/23/2003   74.42\n",
       "3  6/30/2003   74.35\n",
       "4   7/7/2003   74.28"
      ]
     },
     "execution_count": 3,
     "metadata": {},
     "output_type": "execute_result"
    }
   ],
   "source": [
    "petrolprice_df.rename(columns={\"Petrol (USD)\": \"Petrol\"}, inplace=True)\n",
    "petrolprice_df.head()"
   ]
  },
  {
   "cell_type": "markdown",
   "metadata": {},
   "source": [
    "**Data Analysis**"
   ]
  },
  {
   "cell_type": "code",
   "execution_count": 4,
   "metadata": {},
   "outputs": [
    {
     "data": {
      "text/plain": [
       "(813, 2)"
      ]
     },
     "execution_count": 4,
     "metadata": {},
     "output_type": "execute_result"
    }
   ],
   "source": [
    "petrolprice_df.shape"
   ]
  },
  {
   "cell_type": "code",
   "execution_count": 5,
   "metadata": {},
   "outputs": [
    {
     "data": {
      "text/plain": [
       "<bound method DataFrame.info of            Date  Petrol\n",
       "0      6/9/2003   74.59\n",
       "1     6/16/2003   74.47\n",
       "2     6/23/2003   74.42\n",
       "3     6/30/2003   74.35\n",
       "4      7/7/2003   74.28\n",
       "..          ...     ...\n",
       "808   12/3/2018  124.30\n",
       "809  12/10/2018  122.37\n",
       "810  12/17/2018  121.02\n",
       "811  12/24/2018  120.61\n",
       "812  12/31/2018  120.18\n",
       "\n",
       "[813 rows x 2 columns]>"
      ]
     },
     "execution_count": 5,
     "metadata": {},
     "output_type": "execute_result"
    }
   ],
   "source": [
    "petrolprice_df.info"
   ]
  },
  {
   "cell_type": "code",
   "execution_count": 6,
   "metadata": {},
   "outputs": [
    {
     "data": {
      "text/html": [
       "<div>\n",
       "<style scoped>\n",
       "    .dataframe tbody tr th:only-of-type {\n",
       "        vertical-align: middle;\n",
       "    }\n",
       "\n",
       "    .dataframe tbody tr th {\n",
       "        vertical-align: top;\n",
       "    }\n",
       "\n",
       "    .dataframe thead th {\n",
       "        text-align: right;\n",
       "    }\n",
       "</style>\n",
       "<table border=\"1\" class=\"dataframe\">\n",
       "  <thead>\n",
       "    <tr style=\"text-align: right;\">\n",
       "      <th></th>\n",
       "      <th>Petrol</th>\n",
       "    </tr>\n",
       "  </thead>\n",
       "  <tbody>\n",
       "    <tr>\n",
       "      <th>count</th>\n",
       "      <td>811.000000</td>\n",
       "    </tr>\n",
       "    <tr>\n",
       "      <th>mean</th>\n",
       "      <td>110.330481</td>\n",
       "    </tr>\n",
       "    <tr>\n",
       "      <th>std</th>\n",
       "      <td>19.241182</td>\n",
       "    </tr>\n",
       "    <tr>\n",
       "      <th>min</th>\n",
       "      <td>74.210000</td>\n",
       "    </tr>\n",
       "    <tr>\n",
       "      <th>25%</th>\n",
       "      <td>94.525000</td>\n",
       "    </tr>\n",
       "    <tr>\n",
       "      <th>50%</th>\n",
       "      <td>112.420000</td>\n",
       "    </tr>\n",
       "    <tr>\n",
       "      <th>75%</th>\n",
       "      <td>128.560000</td>\n",
       "    </tr>\n",
       "    <tr>\n",
       "      <th>max</th>\n",
       "      <td>189.510000</td>\n",
       "    </tr>\n",
       "  </tbody>\n",
       "</table>\n",
       "</div>"
      ],
      "text/plain": [
       "           Petrol\n",
       "count  811.000000\n",
       "mean   110.330481\n",
       "std     19.241182\n",
       "min     74.210000\n",
       "25%     94.525000\n",
       "50%    112.420000\n",
       "75%    128.560000\n",
       "max    189.510000"
      ]
     },
     "execution_count": 6,
     "metadata": {},
     "output_type": "execute_result"
    }
   ],
   "source": [
    "petrolprice_df.describe()"
   ]
  },
  {
   "cell_type": "code",
   "execution_count": 7,
   "metadata": {},
   "outputs": [
    {
     "data": {
      "text/plain": [
       "Date       object\n",
       "Petrol    float64\n",
       "dtype: object"
      ]
     },
     "execution_count": 7,
     "metadata": {},
     "output_type": "execute_result"
    }
   ],
   "source": [
    "petrolprice_df.dtypes"
   ]
  },
  {
   "cell_type": "code",
   "execution_count": 8,
   "metadata": {},
   "outputs": [
    {
     "data": {
      "text/plain": [
       "Date      0\n",
       "Petrol    2\n",
       "dtype: int64"
      ]
     },
     "execution_count": 8,
     "metadata": {},
     "output_type": "execute_result"
    }
   ],
   "source": [
    "petrolprice_df.isnull().sum()"
   ]
  },
  {
   "cell_type": "code",
   "execution_count": 9,
   "metadata": {},
   "outputs": [
    {
     "data": {
      "image/png": "[encoded data removed]",
      "text/plain": [
       "<Figure size 800x600 with 1 Axes>"
      ]
     },
     "metadata": {},
     "output_type": "display_data"
    }
   ],
   "source": [
    "plt.figure(figsize=(8, 6))\n",
    "plt.plot(petrolprice_df['Date'], petrolprice_df['Petrol'])\n",
    "plt.title('Petrol Prices Over Time')\n",
    "plt.xlabel('Date')\n",
    "plt.ylabel('Petrol Price (USD)')\n",
    "plt.show()"
   ]
  },
  {
   "cell_type": "code",
   "execution_count": 10,
   "metadata": {},
   "outputs": [
    {
     "data": {
      "image/png": "[encoded data removed]",
      "text/plain": [
       "<Figure size 200x500 with 1 Axes>"
      ]
     },
     "metadata": {},
     "output_type": "display_data"
    }
   ],
   "source": [
    "plt.figure(figsize=(2, 5))\n",
    "sns.boxplot(y=petrolprice_df['Petrol'],  width=0.25)\n",
    "plt.title('Box Plot of Petrol Prices')\n",
    "plt.xlabel('Petrol Price (USD)')\n",
    "plt.show()"
   ]
  },
  {
   "cell_type": "markdown",
   "metadata": {},
   "source": [
    "**Data Imputation**"
   ]
  },
  {
   "cell_type": "code",
   "execution_count": 11,
   "metadata": {},
   "outputs": [],
   "source": [
    "from sklearn.experimental import enable_iterative_imputer\n",
    "from sklearn.impute import IterativeImputer"
   ]
  },
  {
   "cell_type": "code",
   "execution_count": 12,
   "metadata": {},
   "outputs": [
    {
     "data": {
      "text/plain": [
       "Date      0\n",
       "Petrol    0\n",
       "dtype: int64"
      ]
     },
     "execution_count": 12,
     "metadata": {},
     "output_type": "execute_result"
    }
   ],
   "source": [
    "imputer = IterativeImputer(max_iter=10, random_state=0)\n",
    "petrolprice_df['Petrol'] = imputer.fit_transform(petrolprice_df[['Petrol']])\n",
    "petrolprice_df.isna().sum()"
   ]
  },
  {
   "cell_type": "markdown",
   "metadata": {},
   "source": [
    "**Removing Outliers**"
   ]
  },
  {
   "cell_type": "code",
   "execution_count": 14,
   "metadata": {},
   "outputs": [],
   "source": [
    "from sklearn.ensemble import IsolationForest"
   ]
  },
  {
   "cell_type": "code",
   "execution_count": 15,
   "metadata": {},
   "outputs": [],
   "source": [
    "model = IsolationForest(contamination=0.05)\n",
    "petrolprice_df['Outlier'] = model.fit_predict(petrolprice_df[['Petrol']])\n",
    "petrolprice_df = petrolprice_df[petrolprice_df['Outlier'] != -1]"
   ]
  },
  {
   "cell_type": "code",
   "execution_count": 16,
   "metadata": {},
   "outputs": [
    {
     "data": {
      "image/png": "[encoded data removed]",
      "text/plain": [
       "<Figure size 800x600 with 1 Axes>"
      ]
     },
     "metadata": {},
     "output_type": "display_data"
    }
   ],
   "source": [
    "plt.figure(figsize=(8, 6))\n",
    "plt.plot(petrolprice_df['Date'], petrolprice_df['Petrol'])\n",
    "plt.title('Petrol Prices Over Time')\n",
    "plt.xlabel('Date')\n",
    "plt.ylabel('Petrol Price (USD)')\n",
    "plt.show()"
   ]
  },
  {
   "cell_type": "code",
   "execution_count": 17,
   "metadata": {},
   "outputs": [
    {
     "data": {
      "image/png": "[encoded data removed]",
      "text/plain": [
       "<Figure size 200x500 with 1 Axes>"
      ]
     },
     "metadata": {},
     "output_type": "display_data"
    }
   ],
   "source": [
    "plt.figure(figsize=(2, 5))\n",
    "sns.boxplot(y=petrolprice_df['Petrol'])\n",
    "plt.title('Box Plot of Petrol Prices')\n",
    "plt.xlabel('Petrol Price (USD)')\n",
    "plt.show()"
   ]
  },
  {
   "cell_type": "code",
   "execution_count": 18,
   "metadata": {},
   "outputs": [
    {
     "data": {
      "text/plain": [
       "0    75.81\n",
       "1    76.05\n",
       "2    76.13\n",
       "3    76.23\n",
       "4    76.20\n",
       "Name: Petrol, dtype: float64"
      ]
     },
     "execution_count": 18,
     "metadata": {},
     "output_type": "execute_result"
    }
   ],
   "source": [
    "petrolprice_df=petrolprice_df.reset_index()['Petrol']\n",
    "petrolprice_df.head()"
   ]
  },
  {
   "cell_type": "markdown",
   "metadata": {},
   "source": [
    "**Data Scaling**"
   ]
  },
  {
   "cell_type": "code",
   "execution_count": 19,
   "metadata": {},
   "outputs": [],
   "source": [
    "from sklearn.preprocessing import MinMaxScaler"
   ]
  },
  {
   "cell_type": "code",
   "execution_count": 20,
   "metadata": {},
   "outputs": [],
   "source": [
    "scaler = MinMaxScaler(feature_range=(0,1))\n",
    "petrolprice_df = scaler.fit_transform(np.array(petrolprice_df).reshape(-1,1))"
   ]
  },
  {
   "cell_type": "code",
   "execution_count": 21,
   "metadata": {
    "scrolled": true
   },
   "outputs": [
    {
     "data": {
      "text/plain": [
       "array([[0.        ],\n",
       "       [0.00384123],\n",
       "       [0.00512164],\n",
       "       [0.00672215],\n",
       "       [0.006242  ],\n",
       "       [0.00544174],\n",
       "       [0.00432138],\n",
       "       [0.00992318],\n",
       "       [0.00144046],\n",
       "       [0.00384123],\n",
       "       [0.00304097],\n",
       "       [0.00304097],\n",
       "       [0.00208067],\n",
       "       [0.00192061],\n",
       "       [0.00336108],\n",
       "       [0.00304097],\n",
       "       [0.00256082],\n",
       "       [0.00240077],\n",
       "       [0.00176056],\n",
       "       [0.00208067],\n",
       "       [0.00112036],\n",
       "       [0.00144046],\n",
       "       [0.00880282],\n",
       "       [0.01008323],\n",
       "       [0.01072343],\n",
       "       [0.01008323],\n",
       "       [0.00912292],\n",
       "       [0.00816261],\n",
       "       [0.071863  ],\n",
       "       [0.09090909],\n",
       "       [0.10115237],\n",
       "       [0.1046735 ],\n",
       "       [0.10611396],\n",
       "       [0.09170935],\n",
       "       [0.08370679],\n",
       "       [0.07362356],\n",
       "       [0.06498079],\n",
       "       [0.0725032 ],\n",
       "       [0.08050576],\n",
       "       [0.08098592],\n",
       "       [0.08082586],\n",
       "       [0.0859475 ],\n",
       "       [0.08706786],\n",
       "       [0.09122919],\n",
       "       [0.0915493 ],\n",
       "       [0.08898848],\n",
       "       [0.08802817],\n",
       "       [0.08754802],\n",
       "       [0.09314981],\n",
       "       [0.09987196],\n",
       "       [0.11683739],\n",
       "       [0.12067862],\n",
       "       [0.13012164],\n",
       "       [0.13540333],\n",
       "       [0.13652369],\n",
       "       [0.13524328],\n",
       "       [0.09042894],\n",
       "       [0.13380282],\n",
       "       [0.13204225],\n",
       "       [0.09042894],\n",
       "       [0.08626761],\n",
       "       [0.08578745],\n",
       "       [0.06450064],\n",
       "       [0.06450064],\n",
       "       [0.06754161],\n",
       "       [0.06946223],\n",
       "       [0.07426376],\n",
       "       [0.0856274 ],\n",
       "       [0.09330986],\n",
       "       [0.11027529],\n",
       "       [0.12147887],\n",
       "       [0.12964149],\n",
       "       [0.15685019],\n",
       "       [0.15717029],\n",
       "       [0.15524968],\n",
       "       [0.15412932],\n",
       "       [0.15284891],\n",
       "       [0.15140845],\n",
       "       [0.14340589],\n",
       "       [0.13396287],\n",
       "       [0.131242  ],\n",
       "       [0.14692702],\n",
       "       [0.15540973],\n",
       "       [0.17477593],\n",
       "       [0.18693982],\n",
       "       [0.19078105],\n",
       "       [0.20390525],\n",
       "       [0.21110755],\n",
       "       [0.21510883],\n",
       "       [0.22183099],\n",
       "       [0.23607554],\n",
       "       [0.23943662],\n",
       "       [0.24983995],\n",
       "       [0.29705506],\n",
       "       [0.30825864],\n",
       "       [0.29769526],\n",
       "       [0.28040973],\n",
       "       [0.28329065],\n",
       "       [0.29513444],\n",
       "       [0.29337388],\n",
       "       [0.28265045],\n",
       "       [0.5525045 ],\n",
       "       [0.26664533],\n",
       "       [0.23559539],\n",
       "       [0.20486556],\n",
       "       [0.1846991 ],\n",
       "       [0.1846991 ],\n",
       "       [0.18229834],\n",
       "       [0.18806018],\n",
       "       [0.19318182],\n",
       "       [0.19558259],\n",
       "       [0.2040653 ],\n",
       "       [0.21126761],\n",
       "       [0.21991037],\n",
       "       [0.22519206],\n",
       "       [0.22279129],\n",
       "       [0.22151088],\n",
       "       [0.22071063],\n",
       "       [0.21702945],\n",
       "       [0.21991037],\n",
       "       [0.23015365],\n",
       "       [0.24567862],\n",
       "       [0.25560179],\n",
       "       [0.27144686],\n",
       "       [0.29481434],\n",
       "       [0.31274008],\n",
       "       [0.32522407],\n",
       "       [0.33050576],\n",
       "       [0.3293854 ],\n",
       "       [0.32474392],\n",
       "       [0.31290013],\n",
       "       [0.31097951],\n",
       "       [0.31498079],\n",
       "       [0.31418054],\n",
       "       [0.30665813],\n",
       "       [0.31145967],\n",
       "       [0.31818182],\n",
       "       [0.33722791],\n",
       "       [0.35163252],\n",
       "       [0.35243278],\n",
       "       [0.35595391],\n",
       "       [0.35227273],\n",
       "       [0.31898207],\n",
       "       [0.29753521],\n",
       "       [0.27320743],\n",
       "       [0.25080026],\n",
       "       [0.22359155],\n",
       "       [0.19830346],\n",
       "       [0.17829706],\n",
       "       [0.17269526],\n",
       "       [0.16165173],\n",
       "       [0.15893086],\n",
       "       [0.15669014],\n",
       "       [0.15572983],\n",
       "       [0.15492958],\n",
       "       [0.5525045 ],\n",
       "       [0.15460948],\n",
       "       [0.15444942],\n",
       "       [0.18613956],\n",
       "       [0.1903009 ],\n",
       "       [0.19350192],\n",
       "       [0.19270166],\n",
       "       [0.18966069],\n",
       "       [0.18069782],\n",
       "       [0.16757362],\n",
       "       [0.15765045],\n",
       "       [0.15701024],\n",
       "       [0.1650128 ],\n",
       "       [0.17269526],\n",
       "       [0.18021767],\n",
       "       [0.1909411 ],\n",
       "       [0.20278489],\n",
       "       [0.2099872 ],\n",
       "       [0.21622919],\n",
       "       [0.23463508],\n",
       "       [0.24599872],\n",
       "       [0.25896287],\n",
       "       [0.27400768],\n",
       "       [0.28233035],\n",
       "       [0.29801536],\n",
       "       [0.30825864],\n",
       "       [0.31850192],\n",
       "       [0.32570423],\n",
       "       [0.33130602],\n",
       "       [0.33290653],\n",
       "       [0.33210627],\n",
       "       [0.33178617],\n",
       "       [0.32890525],\n",
       "       [0.32634443],\n",
       "       [0.32650448],\n",
       "       [0.32682458],\n",
       "       [0.32634443],\n",
       "       [0.32554417],\n",
       "       [0.32314341],\n",
       "       [0.31209987],\n",
       "       [0.30713828],\n",
       "       [0.30393726],\n",
       "       [0.30121639],\n",
       "       [0.30153649],\n",
       "       [0.30569782],\n",
       "       [0.3293854 ],\n",
       "       [0.34138924],\n",
       "       [0.3421895 ],\n",
       "       [0.35211268],\n",
       "       [0.35931498],\n",
       "       [0.37692061],\n",
       "       [0.39900768],\n",
       "       [0.41069142],\n",
       "       [0.4212548 ],\n",
       "       [0.42845711],\n",
       "       [0.42989757],\n",
       "       [0.42877721],\n",
       "       [0.42765685],\n",
       "       [0.42973752],\n",
       "       [0.44110115],\n",
       "       [0.44830346],\n",
       "       [0.45470551],\n",
       "       [0.45470551],\n",
       "       [0.45166453],\n",
       "       [0.44590269],\n",
       "       [0.44638284],\n",
       "       [0.46158771],\n",
       "       [0.47103073],\n",
       "       [0.48255442],\n",
       "       [0.48975672],\n",
       "       [0.49759923],\n",
       "       [0.50080026],\n",
       "       [0.50304097],\n",
       "       [0.50896287],\n",
       "       [0.52432778],\n",
       "       [0.53921255],\n",
       "       [0.55201665],\n",
       "       [0.56386044],\n",
       "       [0.59459027],\n",
       "       [0.62387964],\n",
       "       [0.64372599],\n",
       "       [0.65701024],\n",
       "       [0.67029449],\n",
       "       [0.68229834],\n",
       "       [0.68870038],\n",
       "       [0.69574264],\n",
       "       [0.69830346],\n",
       "       [0.69766325],\n",
       "       [0.6578105 ],\n",
       "       [0.62820102],\n",
       "       [0.60995519],\n",
       "       [0.58274648],\n",
       "       [0.57954545],\n",
       "       [0.58242638],\n",
       "       [0.58802817],\n",
       "       [0.58738796],\n",
       "       [0.56017926],\n",
       "       [0.54481434],\n",
       "       [0.53841229],\n",
       "       [0.49983995],\n",
       "       [0.42973752],\n",
       "       [0.36507682],\n",
       "       [0.34555058],\n",
       "       [0.32138284],\n",
       "       [0.30441741],\n",
       "       [0.27176697],\n",
       "       [0.2506402 ],\n",
       "       [0.2296735 ],\n",
       "       [0.21222791],\n",
       "       [0.19526248],\n",
       "       [0.18453905],\n",
       "       [0.15380922],\n",
       "       [0.16341229],\n",
       "       [0.16613316],\n",
       "       [0.18581946],\n",
       "       [0.19766325],\n",
       "       [0.21558899],\n",
       "       [0.22903329],\n",
       "       [0.23239437],\n",
       "       [0.23159411],\n",
       "       [0.22951344],\n",
       "       [0.2296735 ],\n",
       "       [0.2296735 ],\n",
       "       [0.24871959],\n",
       "       [0.28665173],\n",
       "       [0.29289373],\n",
       "       [0.30105634],\n",
       "       [0.30921895],\n",
       "       [0.31674136],\n",
       "       [0.33258643],\n",
       "       [0.34779129],\n",
       "       [0.36955826],\n",
       "       [0.37740077],\n",
       "       [0.39660691],\n",
       "       [0.41885403],\n",
       "       [0.43213828],\n",
       "       [0.43998079],\n",
       "       [0.44430218],\n",
       "       [0.43165813],\n",
       "       [0.42269526],\n",
       "       [0.42189501],\n",
       "       [0.42493598],\n",
       "       [0.43533931],\n",
       "       [0.45054417],\n",
       "       [0.46238796],\n",
       "       [0.46895006],\n",
       "       [0.49679898],\n",
       "       [0.49007682],\n",
       "       [0.48255442],\n",
       "       [0.47423175],\n",
       "       [0.46510883],\n",
       "       [0.46254802],\n",
       "       [0.46846991],\n",
       "       [0.49535851],\n",
       "       [0.50608195],\n",
       "       [0.51680538],\n",
       "       [0.52288732],\n",
       "       [0.5268886 ],\n",
       "       [0.52784891],\n",
       "       [0.52544814],\n",
       "       [0.52320743],\n",
       "       [0.50672215],\n",
       "       [0.506242  ],\n",
       "       [0.53665173],\n",
       "       [0.5587388 ],\n",
       "       [0.5728233 ],\n",
       "       [0.57714469],\n",
       "       [0.57778489],\n",
       "       [0.5784251 ],\n",
       "       [0.57746479],\n",
       "       [0.5721831 ],\n",
       "       [0.5859475 ],\n",
       "       [0.60659411],\n",
       "       [0.63460307],\n",
       "       [0.65268886],\n",
       "       [0.66373239],\n",
       "       [0.69590269],\n",
       "       [0.70630602],\n",
       "       [0.71606914],\n",
       "       [0.7231114 ],\n",
       "       [0.72615237],\n",
       "       [0.72823303],\n",
       "       [0.72807298],\n",
       "       [0.70614597],\n",
       "       [0.68389885],\n",
       "       [0.67845711],\n",
       "       [0.67317542],\n",
       "       [0.67205506],\n",
       "       [0.67333547],\n",
       "       [0.67381562],\n",
       "       [0.66549296],\n",
       "       [0.65685019],\n",
       "       [0.65300896],\n",
       "       [0.65140845],\n",
       "       [0.64884763],\n",
       "       [0.64868758],\n",
       "       [0.63748399],\n",
       "       [0.62692061],\n",
       "       [0.62067862],\n",
       "       [0.62179898],\n",
       "       [0.62820102],\n",
       "       [0.63348271],\n",
       "       [0.64340589],\n",
       "       [0.65572983],\n",
       "       [0.66373239],\n",
       "       [0.67109475],\n",
       "       [0.678137  ],\n",
       "       [0.68597951],\n",
       "       [0.68806018],\n",
       "       [0.69110115],\n",
       "       [0.69462228],\n",
       "       [0.71590909],\n",
       "       [0.73415493],\n",
       "       [0.74423816],\n",
       "       [0.76232394],\n",
       "       [0.78489117],\n",
       "       [0.82570423],\n",
       "       [0.83322663],\n",
       "       [0.84090909],\n",
       "       [0.84411012],\n",
       "       [0.84555058],\n",
       "       [0.84699104],\n",
       "       [0.85003201],\n",
       "       [0.86283611],\n",
       "       [0.8878041 ],\n",
       "       [0.90220871],\n",
       "       [0.91709347],\n",
       "       [0.90637004],\n",
       "       [0.91229193],\n",
       "       [0.92621639],\n",
       "       [0.94830346],\n",
       "       [0.95726633],\n",
       "       [0.96798976],\n",
       "       [0.98015365],\n",
       "       [0.96975032],\n",
       "       [0.96510883],\n",
       "       [0.95646607],\n",
       "       [0.95726633],\n",
       "       [0.96110755],\n",
       "       [0.96382843],\n",
       "       [0.94510243],\n",
       "       [0.92221511],\n",
       "       [0.93421895],\n",
       "       [0.946863  ],\n",
       "       [0.95790653],\n",
       "       [0.96446863],\n",
       "       [0.97071063],\n",
       "       [0.96254802],\n",
       "       [0.9403009 ],\n",
       "       [0.93645967],\n",
       "       [0.9412612 ],\n",
       "       [0.94734315],\n",
       "       [0.9537452 ],\n",
       "       [0.95774648],\n",
       "       [0.94766325],\n",
       "       [0.93886044],\n",
       "       [0.93918054],\n",
       "       [0.94190141],\n",
       "       [0.94302177],\n",
       "       [0.93790013],\n",
       "       [0.92621639],\n",
       "       [0.92141485],\n",
       "       [0.91805378],\n",
       "       [0.91181178],\n",
       "       [0.9078105 ],\n",
       "       [0.90717029],\n",
       "       [0.90588988],\n",
       "       [0.90572983],\n",
       "       [0.91021127],\n",
       "       [0.91997439],\n",
       "       [0.92685659],\n",
       "       [0.93293854],\n",
       "       [0.93533931],\n",
       "       [0.94574264],\n",
       "       [0.95070423],\n",
       "       [0.96670935],\n",
       "       [0.98415493],\n",
       "       [0.993758  ],\n",
       "       [1.        ],\n",
       "       [0.95966709],\n",
       "       [0.93725992],\n",
       "       [0.93229834],\n",
       "       [0.92605634],\n",
       "       [0.89916773],\n",
       "       [0.89212548],\n",
       "       [0.8753201 ],\n",
       "       [0.88428297],\n",
       "       [0.89116517],\n",
       "       [0.90268886],\n",
       "       [0.91181178],\n",
       "       [0.9215749 ],\n",
       "       [0.93565941],\n",
       "       [0.95886684],\n",
       "       [0.98095391],\n",
       "       [0.99583867],\n",
       "       [0.99919974],\n",
       "       [1.        ],\n",
       "       [0.97903329],\n",
       "       [0.97023047],\n",
       "       [0.94878361],\n",
       "       [0.9403009 ],\n",
       "       [0.93741997],\n",
       "       [0.91613316],\n",
       "       [0.9081306 ],\n",
       "       [0.89900768],\n",
       "       [0.89852753],\n",
       "       [0.89804738],\n",
       "       [0.89708707],\n",
       "       [0.89932778],\n",
       "       [0.90268886],\n",
       "       [0.91453265],\n",
       "       [0.93741997],\n",
       "       [0.95630602],\n",
       "       [0.97711268],\n",
       "       [0.98863636],\n",
       "       [0.98079385],\n",
       "       [0.98415493],\n",
       "       [0.98431498],\n",
       "       [0.98111396],\n",
       "       [0.95822663],\n",
       "       [0.94190141],\n",
       "       [0.92205506],\n",
       "       [0.91725352],\n",
       "       [0.91805378],\n",
       "       [0.92557618],\n",
       "       [0.93197823],\n",
       "       [0.93613956],\n",
       "       [0.93870038],\n",
       "       [0.93966069],\n",
       "       [0.92237516],\n",
       "       [0.92765685],\n",
       "       [0.94654289],\n",
       "       [0.96398848],\n",
       "       [0.97727273],\n",
       "       [0.9796735 ],\n",
       "       [0.98143406],\n",
       "       [0.97935339],\n",
       "       [0.97663252],\n",
       "       [0.98159411],\n",
       "       [0.98895647],\n",
       "       [0.9868758 ],\n",
       "       [0.97855314],\n",
       "       [0.92173496],\n",
       "       [0.89324584],\n",
       "       [0.89404609],\n",
       "       [0.89180538],\n",
       "       [0.89004481],\n",
       "       [0.86603713],\n",
       "       [0.86267606],\n",
       "       [0.86555698],\n",
       "       [0.8677977 ],\n",
       "       [0.87131882],\n",
       "       [0.87948143],\n",
       "       [0.88268246],\n",
       "       [0.8681178 ],\n",
       "       [0.8677977 ],\n",
       "       [0.87147887],\n",
       "       [0.87307939],\n",
       "       [0.85723431],\n",
       "       [0.85163252],\n",
       "       [0.84891165],\n",
       "       [0.84827145],\n",
       "       [0.85387324],\n",
       "       [0.85451344],\n",
       "       [0.85707426],\n",
       "       [0.85755442],\n",
       "       [0.84747119],\n",
       "       [0.84443022],\n",
       "       [0.84747119],\n",
       "       [0.84667093],\n",
       "       [0.84955186],\n",
       "       [0.85307298],\n",
       "       [0.85275288],\n",
       "       [0.8556338 ],\n",
       "       [0.85931498],\n",
       "       [0.85803457],\n",
       "       [0.85947503],\n",
       "       [0.86139565],\n",
       "       [0.86235595],\n",
       "       [0.86539693],\n",
       "       [0.86955826],\n",
       "       [0.87836108],\n",
       "       [0.88492318],\n",
       "       [0.88508323],\n",
       "       [0.88396287],\n",
       "       [0.88060179],\n",
       "       [0.86139565],\n",
       "       [0.85787452],\n",
       "       [0.85595391],\n",
       "       [0.84074904],\n",
       "       [0.83546735],\n",
       "       [0.84074904],\n",
       "       [0.8421895 ],\n",
       "       [0.84523047],\n",
       "       [0.84475032],\n",
       "       [0.81578105],\n",
       "       [0.81129962],\n",
       "       [0.79369398],\n",
       "       [0.7890525 ],\n",
       "       [0.7703265 ],\n",
       "       [0.75432138],\n",
       "       [0.74727913],\n",
       "       [0.74391805],\n",
       "       [0.72615237],\n",
       "       [0.70454545],\n",
       "       [0.64804738],\n",
       "       [0.60579385],\n",
       "       [0.59779129],\n",
       "       [0.56418054],\n",
       "       [0.52912932],\n",
       "       [0.49647887],\n",
       "       [0.48831626],\n",
       "       [0.48383483],\n",
       "       [0.48879641],\n",
       "       [0.50336108],\n",
       "       [0.52064661],\n",
       "       [0.53441101],\n",
       "       [0.54833547],\n",
       "       [0.56386044],\n",
       "       [0.57362356],\n",
       "       [0.58018566],\n",
       "       [0.58514725],\n",
       "       [0.58754802],\n",
       "       [0.59314981],\n",
       "       [0.60403329],\n",
       "       [0.61555698],\n",
       "       [0.62884123],\n",
       "       [0.63908451],\n",
       "       [0.64356594],\n",
       "       [0.6453265 ],\n",
       "       [0.64740717],\n",
       "       [0.64948784],\n",
       "       [0.65284891],\n",
       "       [0.65204866],\n",
       "       [0.64868758],\n",
       "       [0.64980794],\n",
       "       [0.65588988],\n",
       "       [0.65028809],\n",
       "       [0.64516645],\n",
       "       [0.63492318],\n",
       "       [0.62051857],\n",
       "       [0.59891165],\n",
       "       [0.56658131],\n",
       "       [0.56161972],\n",
       "       [0.55681818],\n",
       "       [0.55697823],\n",
       "       [0.53873239],\n",
       "       [0.53024968],\n",
       "       [0.53072983],\n",
       "       [0.53137004],\n",
       "       [0.51584507],\n",
       "       [0.50256082],\n",
       "       [0.50144046],\n",
       "       [0.50496159],\n",
       "       [0.50384123],\n",
       "       [0.49871959],\n",
       "       [0.49519846],\n",
       "       [0.45118438],\n",
       "       [0.42445583],\n",
       "       [0.4209347 ],\n",
       "       [0.41917414],\n",
       "       [0.41741357],\n",
       "       [0.41597311],\n",
       "       [0.40989117],\n",
       "       [0.40893086],\n",
       "       [0.41133163],\n",
       "       [0.41037132],\n",
       "       [0.40941101],\n",
       "       [0.40989117],\n",
       "       [0.41053137],\n",
       "       [0.41453265],\n",
       "       [0.42845711],\n",
       "       [0.44158131],\n",
       "       [0.45934699],\n",
       "       [0.4734315 ],\n",
       "       [0.48975672],\n",
       "       [0.50144046],\n",
       "       [0.51232394],\n",
       "       [0.51824584],\n",
       "       [0.52368758],\n",
       "       [0.5331306 ],\n",
       "       [0.54385403],\n",
       "       [0.55361716],\n",
       "       [0.56370038],\n",
       "       [0.56674136],\n",
       "       [0.57026248],\n",
       "       [0.57362356],\n",
       "       [0.57746479],\n",
       "       [0.57794494],\n",
       "       [0.57426376],\n",
       "       [0.56402049],\n",
       "       [0.54321383],\n",
       "       [0.53569142],\n",
       "       [0.54129321],\n",
       "       [0.55409731],\n",
       "       [0.56274008],\n",
       "       [0.56818182],\n",
       "       [0.56786172],\n",
       "       [0.56898207],\n",
       "       [0.57362356],\n",
       "       [0.58482714],\n",
       "       [0.60675416],\n",
       "       [0.63044174],\n",
       "       [0.64356594],\n",
       "       [0.65220871],\n",
       "       [0.6512484 ],\n",
       "       [0.62259923],\n",
       "       [0.60675416],\n",
       "       [0.60579385],\n",
       "       [0.61491677],\n",
       "       [0.62724072],\n",
       "       [0.63444302],\n",
       "       [0.65925096],\n",
       "       [0.67493598],\n",
       "       [0.68533931],\n",
       "       [0.69814341],\n",
       "       [0.70742638],\n",
       "       [0.71014725],\n",
       "       [0.70966709],\n",
       "       [0.71046735],\n",
       "       [0.70918694],\n",
       "       [0.70758643],\n",
       "       [0.7040653 ],\n",
       "       [0.69046095],\n",
       "       [0.67573624],\n",
       "       [0.6581306 ],\n",
       "       [0.65957106],\n",
       "       [0.66789373],\n",
       "       [0.67765685],\n",
       "       [0.67653649],\n",
       "       [0.66021127],\n",
       "       [0.63684379],\n",
       "       [0.63796415],\n",
       "       [0.63988476],\n",
       "       [0.64036492],\n",
       "       [0.63828425],\n",
       "       [0.62916133],\n",
       "       [0.6181178 ],\n",
       "       [0.60707426],\n",
       "       [0.60451344],\n",
       "       [0.60947503],\n",
       "       [0.61107554],\n",
       "       [0.61379641],\n",
       "       [0.62371959],\n",
       "       [0.63572343],\n",
       "       [0.64388604],\n",
       "       [0.64964789],\n",
       "       [0.6584507 ],\n",
       "       [0.6774968 ],\n",
       "       [0.68886044],\n",
       "       [0.68918054],\n",
       "       [0.67733675],\n",
       "       [0.66181178],\n",
       "       [0.65941101],\n",
       "       [0.65989117],\n",
       "       [0.66021127],\n",
       "       [0.66837388],\n",
       "       [0.68982074],\n",
       "       [0.70198464],\n",
       "       [0.70934699],\n",
       "       [0.70326504],\n",
       "       [0.70582586],\n",
       "       [0.70694622],\n",
       "       [0.70726633],\n",
       "       [0.7103073 ],\n",
       "       [0.71558899],\n",
       "       [0.72263124],\n",
       "       [0.73127401],\n",
       "       [0.73431498],\n",
       "       [0.73495519],\n",
       "       [0.73255442],\n",
       "       [0.71558899],\n",
       "       [0.70006402],\n",
       "       [0.69590269],\n",
       "       [0.69302177],\n",
       "       [0.69398207],\n",
       "       [0.69494238],\n",
       "       [0.69814341],\n",
       "       [0.70662612],\n",
       "       [0.71622919],\n",
       "       [0.7303137 ],\n",
       "       [0.7427977 ],\n",
       "       [0.75960307],\n",
       "       [0.77640845],\n",
       "       [0.8021767 ],\n",
       "       [0.82858515],\n",
       "       [0.8421895 ],\n",
       "       [0.84507042],\n",
       "       [0.83402689],\n",
       "       [0.8221831 ],\n",
       "       [0.81193982],\n",
       "       [0.81882202],\n",
       "       [0.82682458],\n",
       "       [0.82730474],\n",
       "       [0.82794494],\n",
       "       [0.8356274 ],\n",
       "       [0.8415493 ],\n",
       "       [0.84795134],\n",
       "       [0.85419334],\n",
       "       [0.86347631],\n",
       "       [0.87115877],\n",
       "       [0.87676056],\n",
       "       [0.87676056],\n",
       "       [0.86699744],\n",
       "       [0.86971831],\n",
       "       [0.88028169],\n",
       "       [0.88300256],\n",
       "       [0.87756082],\n",
       "       [0.8690781 ],\n",
       "       [0.85035211],\n",
       "       [0.82570423],\n",
       "       [0.79961588],\n",
       "       [0.77608835],\n",
       "       [0.74519846],\n",
       "       [0.72359155],\n",
       "       [0.71702945],\n",
       "       [0.71014725]])"
      ]
     },
     "execution_count": 21,
     "metadata": {},
     "output_type": "execute_result"
    }
   ],
   "source": [
    "petrolprice_df"
   ]
  },
  {
   "cell_type": "markdown",
   "metadata": {},
   "source": [
    "**Splitting The Data**"
   ]
  },
  {
   "cell_type": "code",
   "execution_count": 22,
   "metadata": {},
   "outputs": [],
   "source": [
    "training_size = int(len(petrolprice_df) * 0.65)\n",
    "test_size = len(petrolprice_df) - training_size\n",
    "train_data, test_data = petrolprice_df[0:training_size,:], petrolprice_df[training_size:len(petrolprice_df), :1]"
   ]
  },
  {
   "cell_type": "code",
   "execution_count": 23,
   "metadata": {},
   "outputs": [
    {
     "data": {
      "text/plain": [
       "(501, 1)"
      ]
     },
     "execution_count": 23,
     "metadata": {},
     "output_type": "execute_result"
    }
   ],
   "source": [
    "train_data.shape"
   ]
  },
  {
   "cell_type": "code",
   "execution_count": 24,
   "metadata": {},
   "outputs": [
    {
     "data": {
      "text/plain": [
       "(271, 1)"
      ]
     },
     "execution_count": 24,
     "metadata": {},
     "output_type": "execute_result"
    }
   ],
   "source": [
    "test_data.shape"
   ]
  },
  {
   "cell_type": "markdown",
   "metadata": {},
   "source": [
    "**Data Pre-Processing**"
   ]
  },
  {
   "cell_type": "code",
   "execution_count": 25,
   "metadata": {},
   "outputs": [],
   "source": [
    "def create_dataset(dataset, time_step=1):\n",
    "    dataX = [dataset[i:(i+time_step), 0] for i in range(len(dataset)-time_step-1)]\n",
    "    dataY = [dataset[i + time_step, 0] for i in range(len(dataset)-time_step-1)]\n",
    "    return np.array(dataX), np.array(dataY)"
   ]
  },
  {
   "cell_type": "code",
   "execution_count": 26,
   "metadata": {},
   "outputs": [],
   "source": [
    "time_step = 100\n",
    "X_train, y_train = create_dataset(train_data, time_step)\n",
    "X_test, ytest = create_dataset(test_data, time_step)"
   ]
  },
  {
   "cell_type": "code",
   "execution_count": 27,
   "metadata": {},
   "outputs": [
    {
     "data": {
      "text/plain": [
       "array([[0.        , 0.00384123, 0.00512164, ..., 0.28329065, 0.29513444,\n",
       "        0.29337388],\n",
       "       [0.00384123, 0.00512164, 0.00672215, ..., 0.29513444, 0.29337388,\n",
       "        0.28265045],\n",
       "       [0.00512164, 0.00672215, 0.006242  , ..., 0.29337388, 0.28265045,\n",
       "        0.5525045 ],\n",
       "       ...,\n",
       "       [0.93421895, 0.946863  , 0.95790653, ..., 0.98895647, 0.9868758 ,\n",
       "        0.97855314],\n",
       "       [0.946863  , 0.95790653, 0.96446863, ..., 0.9868758 , 0.97855314,\n",
       "        0.92173496],\n",
       "       [0.95790653, 0.96446863, 0.97071063, ..., 0.97855314, 0.92173496,\n",
       "        0.89324584]])"
      ]
     },
     "execution_count": 27,
     "metadata": {},
     "output_type": "execute_result"
    }
   ],
   "source": [
    "X_train"
   ]
  },
  {
   "cell_type": "code",
   "execution_count": 28,
   "metadata": {
    "scrolled": true
   },
   "outputs": [
    {
     "data": {
      "text/plain": [
       "array([0.28265045, 0.5525045 , 0.26664533, 0.23559539, 0.20486556,\n",
       "       0.1846991 , 0.1846991 , 0.18229834, 0.18806018, 0.19318182,\n",
       "       0.19558259, 0.2040653 , 0.21126761, 0.21991037, 0.22519206,\n",
       "       0.22279129, 0.22151088, 0.22071063, 0.21702945, 0.21991037,\n",
       "       0.23015365, 0.24567862, 0.25560179, 0.27144686, 0.29481434,\n",
       "       0.31274008, 0.32522407, 0.33050576, 0.3293854 , 0.32474392,\n",
       "       0.31290013, 0.31097951, 0.31498079, 0.31418054, 0.30665813,\n",
       "       0.31145967, 0.31818182, 0.33722791, 0.35163252, 0.35243278,\n",
       "       0.35595391, 0.35227273, 0.31898207, 0.29753521, 0.27320743,\n",
       "       0.25080026, 0.22359155, 0.19830346, 0.17829706, 0.17269526,\n",
       "       0.16165173, 0.15893086, 0.15669014, 0.15572983, 0.15492958,\n",
       "       0.5525045 , 0.15460948, 0.15444942, 0.18613956, 0.1903009 ,\n",
       "       0.19350192, 0.19270166, 0.18966069, 0.18069782, 0.16757362,\n",
       "       0.15765045, 0.15701024, 0.1650128 , 0.17269526, 0.18021767,\n",
       "       0.1909411 , 0.20278489, 0.2099872 , 0.21622919, 0.23463508,\n",
       "       0.24599872, 0.25896287, 0.27400768, 0.28233035, 0.29801536,\n",
       "       0.30825864, 0.31850192, 0.32570423, 0.33130602, 0.33290653,\n",
       "       0.33210627, 0.33178617, 0.32890525, 0.32634443, 0.32650448,\n",
       "       0.32682458, 0.32634443, 0.32554417, 0.32314341, 0.31209987,\n",
       "       0.30713828, 0.30393726, 0.30121639, 0.30153649, 0.30569782,\n",
       "       0.3293854 , 0.34138924, 0.3421895 , 0.35211268, 0.35931498,\n",
       "       0.37692061, 0.39900768, 0.41069142, 0.4212548 , 0.42845711,\n",
       "       0.42989757, 0.42877721, 0.42765685, 0.42973752, 0.44110115,\n",
       "       0.44830346, 0.45470551, 0.45470551, 0.45166453, 0.44590269,\n",
       "       0.44638284, 0.46158771, 0.47103073, 0.48255442, 0.48975672,\n",
       "       0.49759923, 0.50080026, 0.50304097, 0.50896287, 0.52432778,\n",
       "       0.53921255, 0.55201665, 0.56386044, 0.59459027, 0.62387964,\n",
       "       0.64372599, 0.65701024, 0.67029449, 0.68229834, 0.68870038,\n",
       "       0.69574264, 0.69830346, 0.69766325, 0.6578105 , 0.62820102,\n",
       "       0.60995519, 0.58274648, 0.57954545, 0.58242638, 0.58802817,\n",
       "       0.58738796, 0.56017926, 0.54481434, 0.53841229, 0.49983995,\n",
       "       0.42973752, 0.36507682, 0.34555058, 0.32138284, 0.30441741,\n",
       "       0.27176697, 0.2506402 , 0.2296735 , 0.21222791, 0.19526248,\n",
       "       0.18453905, 0.15380922, 0.16341229, 0.16613316, 0.18581946,\n",
       "       0.19766325, 0.21558899, 0.22903329, 0.23239437, 0.23159411,\n",
       "       0.22951344, 0.2296735 , 0.2296735 , 0.24871959, 0.28665173,\n",
       "       0.29289373, 0.30105634, 0.30921895, 0.31674136, 0.33258643,\n",
       "       0.34779129, 0.36955826, 0.37740077, 0.39660691, 0.41885403,\n",
       "       0.43213828, 0.43998079, 0.44430218, 0.43165813, 0.42269526,\n",
       "       0.42189501, 0.42493598, 0.43533931, 0.45054417, 0.46238796,\n",
       "       0.46895006, 0.49679898, 0.49007682, 0.48255442, 0.47423175,\n",
       "       0.46510883, 0.46254802, 0.46846991, 0.49535851, 0.50608195,\n",
       "       0.51680538, 0.52288732, 0.5268886 , 0.52784891, 0.52544814,\n",
       "       0.52320743, 0.50672215, 0.506242  , 0.53665173, 0.5587388 ,\n",
       "       0.5728233 , 0.57714469, 0.57778489, 0.5784251 , 0.57746479,\n",
       "       0.5721831 , 0.5859475 , 0.60659411, 0.63460307, 0.65268886,\n",
       "       0.66373239, 0.69590269, 0.70630602, 0.71606914, 0.7231114 ,\n",
       "       0.72615237, 0.72823303, 0.72807298, 0.70614597, 0.68389885,\n",
       "       0.67845711, 0.67317542, 0.67205506, 0.67333547, 0.67381562,\n",
       "       0.66549296, 0.65685019, 0.65300896, 0.65140845, 0.64884763,\n",
       "       0.64868758, 0.63748399, 0.62692061, 0.62067862, 0.62179898,\n",
       "       0.62820102, 0.63348271, 0.64340589, 0.65572983, 0.66373239,\n",
       "       0.67109475, 0.678137  , 0.68597951, 0.68806018, 0.69110115,\n",
       "       0.69462228, 0.71590909, 0.73415493, 0.74423816, 0.76232394,\n",
       "       0.78489117, 0.82570423, 0.83322663, 0.84090909, 0.84411012,\n",
       "       0.84555058, 0.84699104, 0.85003201, 0.86283611, 0.8878041 ,\n",
       "       0.90220871, 0.91709347, 0.90637004, 0.91229193, 0.92621639,\n",
       "       0.94830346, 0.95726633, 0.96798976, 0.98015365, 0.96975032,\n",
       "       0.96510883, 0.95646607, 0.95726633, 0.96110755, 0.96382843,\n",
       "       0.94510243, 0.92221511, 0.93421895, 0.946863  , 0.95790653,\n",
       "       0.96446863, 0.97071063, 0.96254802, 0.9403009 , 0.93645967,\n",
       "       0.9412612 , 0.94734315, 0.9537452 , 0.95774648, 0.94766325,\n",
       "       0.93886044, 0.93918054, 0.94190141, 0.94302177, 0.93790013,\n",
       "       0.92621639, 0.92141485, 0.91805378, 0.91181178, 0.9078105 ,\n",
       "       0.90717029, 0.90588988, 0.90572983, 0.91021127, 0.91997439,\n",
       "       0.92685659, 0.93293854, 0.93533931, 0.94574264, 0.95070423,\n",
       "       0.96670935, 0.98415493, 0.993758  , 1.        , 0.95966709,\n",
       "       0.93725992, 0.93229834, 0.92605634, 0.89916773, 0.89212548,\n",
       "       0.8753201 , 0.88428297, 0.89116517, 0.90268886, 0.91181178,\n",
       "       0.9215749 , 0.93565941, 0.95886684, 0.98095391, 0.99583867,\n",
       "       0.99919974, 1.        , 0.97903329, 0.97023047, 0.94878361,\n",
       "       0.9403009 , 0.93741997, 0.91613316, 0.9081306 , 0.89900768,\n",
       "       0.89852753, 0.89804738, 0.89708707, 0.89932778, 0.90268886,\n",
       "       0.91453265, 0.93741997, 0.95630602, 0.97711268, 0.98863636,\n",
       "       0.98079385, 0.98415493, 0.98431498, 0.98111396, 0.95822663,\n",
       "       0.94190141, 0.92205506, 0.91725352, 0.91805378, 0.92557618,\n",
       "       0.93197823, 0.93613956, 0.93870038, 0.93966069, 0.92237516,\n",
       "       0.92765685, 0.94654289, 0.96398848, 0.97727273, 0.9796735 ,\n",
       "       0.98143406, 0.97935339, 0.97663252, 0.98159411, 0.98895647,\n",
       "       0.9868758 , 0.97855314, 0.92173496, 0.89324584, 0.89404609])"
      ]
     },
     "execution_count": 28,
     "metadata": {},
     "output_type": "execute_result"
    }
   ],
   "source": [
    "y_train"
   ]
  },
  {
   "cell_type": "code",
   "execution_count": 29,
   "metadata": {},
   "outputs": [],
   "source": [
    "X_train = X_train.reshape(X_train.shape[0],X_train.shape[1] , 1)\n",
    "X_test = X_test.reshape(X_test.shape[0],X_test.shape[1] , 1)"
   ]
  },
  {
   "cell_type": "code",
   "execution_count": 30,
   "metadata": {},
   "outputs": [
    {
     "data": {
      "text/plain": [
       "(400, 100, 1)"
      ]
     },
     "execution_count": 30,
     "metadata": {},
     "output_type": "execute_result"
    }
   ],
   "source": [
    "X_train.shape"
   ]
  },
  {
   "cell_type": "code",
   "execution_count": 31,
   "metadata": {},
   "outputs": [
    {
     "data": {
      "text/plain": [
       "(170, 100, 1)"
      ]
     },
     "execution_count": 31,
     "metadata": {},
     "output_type": "execute_result"
    }
   ],
   "source": [
    "X_test.shape"
   ]
  },
  {
   "cell_type": "markdown",
   "metadata": {},
   "source": [
    "**LSTM Model Building**"
   ]
  },
  {
   "cell_type": "code",
   "execution_count": 128,
   "metadata": {},
   "outputs": [],
   "source": [
    "import tensorflow as tf\n",
    "from tensorflow.keras.models import Sequential\n",
    "from tensorflow.keras.layers import Dense, Dropout\n",
    "from tensorflow.keras.layers import LSTM\n",
    "from sklearn.metrics import mean_squared_error"
   ]
  },
  {
   "cell_type": "code",
   "execution_count": 129,
   "metadata": {},
   "outputs": [],
   "source": [
    "model = Sequential()\n",
    "model.add(LSTM(50, return_sequences=True, input_shape=(100, 1)))\n",
    "model.add(LSTM(50, return_sequences=True))\n",
    "model.add(Dropout(0.2))\n",
    "model.add(LSTM(50))\n",
    "model.add(Dropout(0.2))\n",
    "model.add(Dense(1))"
   ]
  },
  {
   "cell_type": "code",
   "execution_count": 130,
   "metadata": {},
   "outputs": [
    {
     "name": "stdout",
     "output_type": "stream",
     "text": [
      "Model: \"sequential_8\"\n",
      "_________________________________________________________________\n",
      " Layer (type)                Output Shape              Param #   \n",
      "=================================================================\n",
      " lstm_23 (LSTM)              (None, 100, 50)           10400     \n",
      "                                                                 \n",
      " lstm_24 (LSTM)              (None, 100, 50)           20200     \n",
      "                                                                 \n",
      " dropout_9 (Dropout)         (None, 100, 50)           0         \n",
      "                                                                 \n",
      " lstm_25 (LSTM)              (None, 50)                20200     \n",
      "                                                                 \n",
      " dropout_10 (Dropout)        (None, 50)                0         \n",
      "                                                                 \n",
      " dense_7 (Dense)             (None, 1)                 51        \n",
      "                                                                 \n",
      "=================================================================\n",
      "Total params: 50851 (198.64 KB)\n",
      "Trainable params: 50851 (198.64 KB)\n",
      "Non-trainable params: 0 (0.00 Byte)\n",
      "_________________________________________________________________\n"
     ]
    }
   ],
   "source": [
    "model.summary()"
   ]
  },
  {
   "cell_type": "code",
   "execution_count": 169,
   "metadata": {},
   "outputs": [
    {
     "name": "stderr",
     "output_type": "stream",
     "text": [
      "WARNING:absl:At this time, the v2.11+ optimizer `tf.keras.optimizers.Adam` runs slowly on M1/M2 Macs, please use the legacy Keras optimizer instead, located at `tf.keras.optimizers.legacy.Adam`.\n"
     ]
    }
   ],
   "source": [
    "# custom_learning_rate = 0.0001\n",
    "# custom_optimizer = Adam(learning_rate=custom_learning_rate)"
   ]
  },
  {
   "cell_type": "code",
   "execution_count": 185,
   "metadata": {},
   "outputs": [],
   "source": [
    "model.compile(loss='mean_squared_error', optimizer='adam', metrics=['mean_squared_error', 'mean_absolute_error'])"
   ]
  },
  {
   "cell_type": "code",
   "execution_count": null,
   "metadata": {
    "scrolled": true
   },
   "outputs": [
    {
     "name": "stdout",
     "output_type": "stream",
     "text": [
      "Epoch 1/200\n",
      "4/4 [==============================] - 3s 256ms/step - loss: 0.0021 - mean_squared_error: 0.0021 - mean_absolute_error: 0.0307 - val_loss: 4.1171e-04 - val_mean_squared_error: 4.1171e-04 - val_mean_absolute_error: 0.0180\n",
      "Epoch 2/200\n",
      "4/4 [==============================] - 1s 134ms/step - loss: 0.0019 - mean_squared_error: 0.0019 - mean_absolute_error: 0.0316 - val_loss: 0.0014 - val_mean_squared_error: 0.0014 - val_mean_absolute_error: 0.0358\n",
      "Epoch 3/200\n",
      "4/4 [==============================] - 1s 136ms/step - loss: 0.0018 - mean_squared_error: 0.0018 - mean_absolute_error: 0.0289 - val_loss: 2.4292e-04 - val_mean_squared_error: 2.4292e-04 - val_mean_absolute_error: 0.0130\n",
      "Epoch 4/200\n",
      "4/4 [==============================] - 1s 127ms/step - loss: 0.0016 - mean_squared_error: 0.0016 - mean_absolute_error: 0.0281 - val_loss: 1.9674e-04 - val_mean_squared_error: 1.9674e-04 - val_mean_absolute_error: 0.0110\n",
      "Epoch 5/200\n",
      "4/4 [==============================] - 1s 135ms/step - loss: 0.0014 - mean_squared_error: 0.0014 - mean_absolute_error: 0.0237 - val_loss: 3.0030e-04 - val_mean_squared_error: 3.0030e-04 - val_mean_absolute_error: 0.0146\n",
      "Epoch 6/200\n",
      "4/4 [==============================] - 1s 133ms/step - loss: 0.0014 - mean_squared_error: 0.0014 - mean_absolute_error: 0.0234 - val_loss: 1.1434e-04 - val_mean_squared_error: 1.1434e-04 - val_mean_absolute_error: 0.0084\n",
      "Epoch 7/200\n",
      "4/4 [==============================] - 1s 141ms/step - loss: 0.0014 - mean_squared_error: 0.0014 - mean_absolute_error: 0.0249 - val_loss: 9.7162e-05 - val_mean_squared_error: 9.7162e-05 - val_mean_absolute_error: 0.0073\n",
      "Epoch 8/200\n",
      "4/4 [==============================] - 1s 129ms/step - loss: 0.0014 - mean_squared_error: 0.0014 - mean_absolute_error: 0.0244 - val_loss: 1.5192e-04 - val_mean_squared_error: 1.5192e-04 - val_mean_absolute_error: 0.0096\n",
      "Epoch 9/200\n",
      "4/4 [==============================] - 1s 149ms/step - loss: 0.0013 - mean_squared_error: 0.0013 - mean_absolute_error: 0.0241 - val_loss: 1.7373e-04 - val_mean_squared_error: 1.7373e-04 - val_mean_absolute_error: 0.0111\n",
      "Epoch 10/200\n",
      "4/4 [==============================] - 1s 146ms/step - loss: 0.0015 - mean_squared_error: 0.0015 - mean_absolute_error: 0.0245 - val_loss: 2.9459e-04 - val_mean_squared_error: 2.9459e-04 - val_mean_absolute_error: 0.0140\n",
      "Epoch 11/200\n",
      "4/4 [==============================] - 1s 134ms/step - loss: 0.0015 - mean_squared_error: 0.0015 - mean_absolute_error: 0.0250 - val_loss: 1.0964e-04 - val_mean_squared_error: 1.0964e-04 - val_mean_absolute_error: 0.0076\n",
      "Epoch 12/200\n",
      "4/4 [==============================] - 1s 135ms/step - loss: 0.0013 - mean_squared_error: 0.0013 - mean_absolute_error: 0.0235 - val_loss: 1.8421e-04 - val_mean_squared_error: 1.8421e-04 - val_mean_absolute_error: 0.0105\n",
      "Epoch 13/200\n",
      "4/4 [==============================] - 1s 136ms/step - loss: 0.0014 - mean_squared_error: 0.0014 - mean_absolute_error: 0.0237 - val_loss: 1.6383e-04 - val_mean_squared_error: 1.6383e-04 - val_mean_absolute_error: 0.0100\n",
      "Epoch 14/200\n",
      "4/4 [==============================] - 1s 134ms/step - loss: 0.0015 - mean_squared_error: 0.0015 - mean_absolute_error: 0.0241 - val_loss: 1.0559e-04 - val_mean_squared_error: 1.0559e-04 - val_mean_absolute_error: 0.0076\n",
      "Epoch 15/200\n",
      "4/4 [==============================] - 1s 125ms/step - loss: 0.0014 - mean_squared_error: 0.0014 - mean_absolute_error: 0.0237 - val_loss: 1.7392e-04 - val_mean_squared_error: 1.7392e-04 - val_mean_absolute_error: 0.0100\n",
      "Epoch 16/200\n",
      "4/4 [==============================] - 1s 126ms/step - loss: 0.0013 - mean_squared_error: 0.0013 - mean_absolute_error: 0.0230 - val_loss: 1.0815e-04 - val_mean_squared_error: 1.0815e-04 - val_mean_absolute_error: 0.0076\n",
      "Epoch 17/200\n",
      "4/4 [==============================] - 1s 131ms/step - loss: 0.0013 - mean_squared_error: 0.0013 - mean_absolute_error: 0.0234 - val_loss: 2.5375e-04 - val_mean_squared_error: 2.5375e-04 - val_mean_absolute_error: 0.0127\n",
      "Epoch 18/200\n",
      "4/4 [==============================] - 1s 130ms/step - loss: 0.0015 - mean_squared_error: 0.0015 - mean_absolute_error: 0.0245 - val_loss: 1.6148e-04 - val_mean_squared_error: 1.6148e-04 - val_mean_absolute_error: 0.0106\n",
      "Epoch 19/200\n",
      "4/4 [==============================] - 1s 138ms/step - loss: 0.0015 - mean_squared_error: 0.0015 - mean_absolute_error: 0.0248 - val_loss: 3.1578e-04 - val_mean_squared_error: 3.1578e-04 - val_mean_absolute_error: 0.0145\n",
      "Epoch 20/200\n",
      "4/4 [==============================] - 1s 132ms/step - loss: 0.0015 - mean_squared_error: 0.0015 - mean_absolute_error: 0.0252 - val_loss: 1.0888e-04 - val_mean_squared_error: 1.0888e-04 - val_mean_absolute_error: 0.0080\n",
      "Epoch 21/200\n",
      "4/4 [==============================] - 1s 129ms/step - loss: 0.0015 - mean_squared_error: 0.0015 - mean_absolute_error: 0.0230 - val_loss: 1.5330e-04 - val_mean_squared_error: 1.5330e-04 - val_mean_absolute_error: 0.0096\n",
      "Epoch 22/200\n",
      "4/4 [==============================] - 1s 129ms/step - loss: 0.0016 - mean_squared_error: 0.0016 - mean_absolute_error: 0.0266 - val_loss: 1.4860e-04 - val_mean_squared_error: 1.4860e-04 - val_mean_absolute_error: 0.0095\n",
      "Epoch 23/200\n",
      "4/4 [==============================] - 1s 136ms/step - loss: 0.0016 - mean_squared_error: 0.0016 - mean_absolute_error: 0.0271 - val_loss: 1.5053e-04 - val_mean_squared_error: 1.5053e-04 - val_mean_absolute_error: 0.0099\n",
      "Epoch 24/200\n",
      "4/4 [==============================] - 1s 134ms/step - loss: 0.0013 - mean_squared_error: 0.0013 - mean_absolute_error: 0.0232 - val_loss: 4.9588e-04 - val_mean_squared_error: 4.9588e-04 - val_mean_absolute_error: 0.0193\n",
      "Epoch 25/200\n",
      "4/4 [==============================] - 1s 133ms/step - loss: 0.0014 - mean_squared_error: 0.0014 - mean_absolute_error: 0.0237 - val_loss: 1.1479e-04 - val_mean_squared_error: 1.1479e-04 - val_mean_absolute_error: 0.0085\n",
      "Epoch 26/200\n",
      "4/4 [==============================] - 1s 133ms/step - loss: 0.0015 - mean_squared_error: 0.0015 - mean_absolute_error: 0.0248 - val_loss: 4.2360e-04 - val_mean_squared_error: 4.2360e-04 - val_mean_absolute_error: 0.0175\n",
      "Epoch 27/200\n",
      "4/4 [==============================] - 1s 134ms/step - loss: 0.0014 - mean_squared_error: 0.0014 - mean_absolute_error: 0.0240 - val_loss: 9.3817e-05 - val_mean_squared_error: 9.3817e-05 - val_mean_absolute_error: 0.0072\n",
      "Epoch 28/200\n",
      "4/4 [==============================] - 1s 137ms/step - loss: 0.0014 - mean_squared_error: 0.0014 - mean_absolute_error: 0.0249 - val_loss: 3.4623e-04 - val_mean_squared_error: 3.4623e-04 - val_mean_absolute_error: 0.0157\n",
      "Epoch 29/200\n",
      "4/4 [==============================] - 1s 153ms/step - loss: 0.0014 - mean_squared_error: 0.0014 - mean_absolute_error: 0.0240 - val_loss: 2.3292e-04 - val_mean_squared_error: 2.3292e-04 - val_mean_absolute_error: 0.0122\n",
      "Epoch 30/200\n",
      "4/4 [==============================] - 1s 134ms/step - loss: 0.0015 - mean_squared_error: 0.0015 - mean_absolute_error: 0.0247 - val_loss: 2.3833e-04 - val_mean_squared_error: 2.3833e-04 - val_mean_absolute_error: 0.0124\n",
      "Epoch 31/200\n",
      "4/4 [==============================] - 1s 129ms/step - loss: 0.0015 - mean_squared_error: 0.0015 - mean_absolute_error: 0.0252 - val_loss: 9.6785e-05 - val_mean_squared_error: 9.6785e-05 - val_mean_absolute_error: 0.0073\n",
      "Epoch 32/200\n",
      "4/4 [==============================] - 1s 139ms/step - loss: 0.0013 - mean_squared_error: 0.0013 - mean_absolute_error: 0.0234 - val_loss: 2.6777e-04 - val_mean_squared_error: 2.6777e-04 - val_mean_absolute_error: 0.0132\n",
      "Epoch 33/200\n",
      "4/4 [==============================] - 1s 127ms/step - loss: 0.0015 - mean_squared_error: 0.0015 - mean_absolute_error: 0.0235 - val_loss: 1.1157e-04 - val_mean_squared_error: 1.1157e-04 - val_mean_absolute_error: 0.0082\n",
      "Epoch 34/200\n",
      "4/4 [==============================] - 1s 131ms/step - loss: 0.0015 - mean_squared_error: 0.0015 - mean_absolute_error: 0.0247 - val_loss: 3.5179e-04 - val_mean_squared_error: 3.5179e-04 - val_mean_absolute_error: 0.0159\n",
      "Epoch 35/200\n",
      "4/4 [==============================] - 1s 141ms/step - loss: 0.0014 - mean_squared_error: 0.0014 - mean_absolute_error: 0.0242 - val_loss: 1.0063e-04 - val_mean_squared_error: 1.0063e-04 - val_mean_absolute_error: 0.0076\n",
      "Epoch 36/200\n"
     ]
    },
    {
     "name": "stdout",
     "output_type": "stream",
     "text": [
      "4/4 [==============================] - 1s 145ms/step - loss: 0.0014 - mean_squared_error: 0.0014 - mean_absolute_error: 0.0230 - val_loss: 2.6606e-04 - val_mean_squared_error: 2.6606e-04 - val_mean_absolute_error: 0.0135\n",
      "Epoch 37/200\n",
      "4/4 [==============================] - 1s 145ms/step - loss: 0.0015 - mean_squared_error: 0.0015 - mean_absolute_error: 0.0247 - val_loss: 2.5638e-04 - val_mean_squared_error: 2.5638e-04 - val_mean_absolute_error: 0.0139\n",
      "Epoch 38/200\n",
      "4/4 [==============================] - 1s 137ms/step - loss: 0.0014 - mean_squared_error: 0.0014 - mean_absolute_error: 0.0242 - val_loss: 3.9889e-04 - val_mean_squared_error: 3.9889e-04 - val_mean_absolute_error: 0.0171\n",
      "Epoch 39/200\n",
      "4/4 [==============================] - 1s 131ms/step - loss: 0.0013 - mean_squared_error: 0.0013 - mean_absolute_error: 0.0229 - val_loss: 1.1835e-04 - val_mean_squared_error: 1.1835e-04 - val_mean_absolute_error: 0.0084\n",
      "Epoch 40/200\n",
      "4/4 [==============================] - 1s 138ms/step - loss: 0.0013 - mean_squared_error: 0.0013 - mean_absolute_error: 0.0229 - val_loss: 2.2589e-04 - val_mean_squared_error: 2.2589e-04 - val_mean_absolute_error: 0.0122\n",
      "Epoch 41/200\n",
      "4/4 [==============================] - 1s 133ms/step - loss: 0.0015 - mean_squared_error: 0.0015 - mean_absolute_error: 0.0241 - val_loss: 1.5109e-04 - val_mean_squared_error: 1.5109e-04 - val_mean_absolute_error: 0.0096\n",
      "Epoch 42/200\n",
      "4/4 [==============================] - 1s 135ms/step - loss: 0.0016 - mean_squared_error: 0.0016 - mean_absolute_error: 0.0261 - val_loss: 2.1595e-04 - val_mean_squared_error: 2.1595e-04 - val_mean_absolute_error: 0.0119\n",
      "Epoch 43/200\n",
      "4/4 [==============================] - 1s 133ms/step - loss: 0.0014 - mean_squared_error: 0.0014 - mean_absolute_error: 0.0246 - val_loss: 1.8493e-04 - val_mean_squared_error: 1.8493e-04 - val_mean_absolute_error: 0.0108\n",
      "Epoch 44/200\n",
      "4/4 [==============================] - 1s 131ms/step - loss: 0.0015 - mean_squared_error: 0.0015 - mean_absolute_error: 0.0259 - val_loss: 2.0210e-04 - val_mean_squared_error: 2.0210e-04 - val_mean_absolute_error: 0.0112\n",
      "Epoch 45/200\n",
      "4/4 [==============================] - 1s 128ms/step - loss: 0.0013 - mean_squared_error: 0.0013 - mean_absolute_error: 0.0237 - val_loss: 9.7816e-05 - val_mean_squared_error: 9.7816e-05 - val_mean_absolute_error: 0.0072\n",
      "Epoch 46/200\n",
      "4/4 [==============================] - 1s 135ms/step - loss: 0.0015 - mean_squared_error: 0.0015 - mean_absolute_error: 0.0248 - val_loss: 1.7557e-04 - val_mean_squared_error: 1.7557e-04 - val_mean_absolute_error: 0.0101\n",
      "Epoch 47/200\n"
     ]
    }
   ],
   "source": [
    "history = model.fit(X_train, y_train, validation_data = (X_test, ytest), epochs = 200, batch_size = 128, verbose=1)"
   ]
  },
  {
   "cell_type": "code",
   "execution_count": null,
   "metadata": {},
   "outputs": [],
   "source": [
    "results = model.evaluate(X_test, ytest)\n",
    "print(\"Mean Squared Error (MSE):\", results[1])\n",
    "print(\"Mean Absolute Error (MAE):\", results[2])"
   ]
  },
  {
   "cell_type": "code",
   "execution_count": null,
   "metadata": {},
   "outputs": [],
   "source": [
    "train_predict = model.predict(X_train)\n",
    "test_predict = model.predict(X_test)"
   ]
  },
  {
   "cell_type": "code",
   "execution_count": null,
   "metadata": {},
   "outputs": [],
   "source": [
    "train_predict = scaler.inverse_transform(train_predict)\n",
    "test_predict = scaler.inverse_transform(test_predict)"
   ]
  },
  {
   "cell_type": "code",
   "execution_count": null,
   "metadata": {},
   "outputs": [],
   "source": [
    "look_back = 100\n",
    "trainPredictPlot = np.empty_like(petrolprice_df)\n",
    "trainPredictPlot[:, :] = np.nan\n",
    "trainPredictPlot[look_back:len(train_predict)+look_back, :] = train_predict"
   ]
  },
  {
   "cell_type": "code",
   "execution_count": null,
   "metadata": {},
   "outputs": [],
   "source": [
    "testPredictPlot = np.empty_like(petrolprice_df)\n",
    "testPredictPlot[:, :] = np.nan\n",
    "testPredictPlot[len(train_predict) + (look_back*2)+1:len(petrolprice_df)-1, :] = test_predict"
   ]
  },
  {
   "cell_type": "code",
   "execution_count": null,
   "metadata": {},
   "outputs": [],
   "source": [
    "plt.figure(figsize=(12,5))\n",
    "plt.plot(scaler.inverse_transform(petrolprice_df))\n",
    "plt.plot(trainPredictPlot, label= \"training data\")\n",
    "plt.plot(testPredictPlot, label= \"forecasted data\")\n",
    "plt.xticks([])\n",
    "plt.legend() \n",
    "plt.show()"
   ]
  },
  {
   "cell_type": "code",
   "execution_count": null,
   "metadata": {
    "scrolled": false
   },
   "outputs": [],
   "source": [
    "# Plot training & validation loss values\n",
    "plt.plot(history.history['loss'])\n",
    "plt.plot(history.history['val_loss'])\n",
    "plt.title('Model loss')\n",
    "plt.xlabel('Epoch')\n",
    "plt.ylabel('Loss')\n",
    "plt.legend(['Train', 'Validation'], loc='upper left')\n",
    "plt.show()"
   ]
  },
  {
   "cell_type": "code",
   "execution_count": null,
   "metadata": {},
   "outputs": [],
   "source": []
  },
  {
   "cell_type": "code",
   "execution_count": null,
   "metadata": {},
   "outputs": [],
   "source": []
  },
  {
   "cell_type": "code",
   "execution_count": null,
   "metadata": {},
   "outputs": [],
   "source": []
  }
 ],
 "metadata": {
  "colab": {
   "provenance": []
  },
  "kernelspec": {
   "display_name": "Python 3 (ipykernel)",
   "language": "python",
   "name": "python3"
  },
  "language_info": {
   "codemirror_mode": {
    "name": "ipython",
    "version": 3
   },
   "file_extension": ".py",
   "mimetype": "text/x-python",
   "name": "python",
   "nbconvert_exporter": "python",
   "pygments_lexer": "ipython3",
   "version": "3.11.5"
  }
 },
 "nbformat": 4,
 "nbformat_minor": 1
}
